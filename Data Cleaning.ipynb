{
 "cells": [
  {
   "cell_type": "markdown",
   "id": "0d9579c7-5613-48ad-a089-314c8c652f9d",
   "metadata": {},
   "source": [
    "# The More The Merrier (Data Cleaning)"
   ]
  },
  {
   "cell_type": "markdown",
   "id": "3804c845-64ca-448b-b9c0-11f2e88cf730",
   "metadata": {},
   "source": [
    "**Description:** This notebook is dedicated to the automation of the data loading and cleaning process of raw data stored in *csv* files using the \n",
    "*Pandas* library, specifically focusing on three key datasets for this project.\n",
    "\n",
    "- **Data:** Datasets to clean:\n",
    "  - `2017_Entry_Exit_Frequency.csv`\n",
    "  - `2017 UK Average House Price Index.csv`\n"
   ]
  },
  {
   "cell_type": "code",
   "execution_count": 1,
   "id": "2c52741e-4607-4fce-a7ae-c006b87b2cab",
   "metadata": {},
   "outputs": [],
   "source": [
    "# importing the necessary libraries\n",
    "import pandas as pd\n",
    "import numpy as np\n",
    "from sklearn.preprocessing import LabelEncoder"
   ]
  },
  {
   "cell_type": "markdown",
   "id": "521f7ca4-c76f-489f-97b6-92d60684198c",
   "metadata": {},
   "source": [
    "### The Data Loading Pipeline\n",
    "**Description:** The data loading pipeline involves loading a csv file containing raw data into a dataframe. The next process involves selecting the relevant columns for analysis and simplifying the column names. This was done with a single function named \"data_loading_pipeline\" that performs the aforemnentioned tasks individually with the folliwng function names:\n",
    "\n",
    "- `load_csv`\n",
    "- `select_cols`\n",
    "- `rename_cols`\n",
    "\n",
    "The resulting dataframes are then ready to be cleaned.\n"
   ]
  },
  {
   "cell_type": "code",
   "execution_count": 2,
   "id": "a49f1fe4-c470-479d-8a85-2c34a4edb111",
   "metadata": {},
   "outputs": [],
   "source": [
    "# The data loading pipeline\n",
    "def load_csv(filepath, r):\n",
    "    df = pd.read_csv(filepath, skiprows = r)\n",
    "    return df\n",
    "\n",
    "def select_cols(df, cols):\n",
    "    df = df[cols]\n",
    "    return df\n",
    "\n",
    "def rename_cols(df, new_name_cols):\n",
    "    df.columns = new_name_cols\n",
    "    return df\n",
    "\n",
    "def data_loading_pipeline(filepath, r,\n",
    "                          cols,\n",
    "                          new_name_cols):\n",
    "    raw_df = load_csv(filepath,r)\n",
    "    df = select_cols(raw_df, cols)\n",
    "    df = rename_cols(df, new_name_cols)\n",
    "    return df "
   ]
  },
  {
   "cell_type": "code",
   "execution_count": 3,
   "id": "71f0ce51-145b-4a78-b456-b951b74e4992",
   "metadata": {},
   "outputs": [],
   "source": [
    "ldn_sta_freq_load = data_loading_pipeline(r'C:\\Users\\pjxph\\Documents\\Data Science Projects\\The More The Merrier\\raw data\\2017_Entry_Exit_Frequency.csv', 6,\n",
    "                           ['Station', 'Borough', 'million'],\n",
    "                           ['station_name', 'council_name', 'freq(mill)'])\n",
    "ldn_hse_price_load = data_loading_pipeline(r'C:\\Users\\pjxph\\Documents\\Data Science Projects\\The More The Merrier\\raw data\\2017 UK Average House Price Index.csv', 0,\n",
    "                                             ['Local authorities', 'Dec-17'],\n",
    "                                             ['council_name', 'avg_hse_price(mill)'])"
   ]
  },
  {
   "cell_type": "markdown",
   "id": "bd8fb345-7b92-4c3f-93c2-4bd538d23114",
   "metadata": {},
   "source": [
    "#### The two **loaded** dataframes are:\n",
    "* `ldn_sta_freq_load`\n",
    "* `ldn_hse_price_load`\n",
    "\n",
    "Both dataframes then proceed to the data cleaning process."
   ]
  },
  {
   "cell_type": "markdown",
   "id": "1751f194-4db3-46c4-973a-4374d76b5b22",
   "metadata": {},
   "source": [
    "### Data Cleaning\n",
    "**Description:** After the data loading process, the loaded data needs to be cleaned for analysis. As with the data loading pipleine, this process was done using a single function named the \"data_loading_pipeline\" that performs the tasks listed below individually with its corresponding function.\n",
    "\n",
    "- `drop_dups:` drop any rows that contain duplicates in any selected columns.\n",
    "- `drop_na:` drop any rows that contain null values in the entire dataframe.\n",
    "- `set_cols_dtypes:` set any selected column's\n",
    "- `remove_spec_char:` remove any character from any selected columns. \n",
    "\n",
    "\n",
    "Then, the resulting dataframes are required to be checked for consistency."
   ]
  },
  {
   "cell_type": "code",
   "execution_count": 4,
   "id": "7e422e60-b690-49b3-bed0-2f87376c3e63",
   "metadata": {},
   "outputs": [],
   "source": [
    "# The data cleaning pipeline\n",
    "def drop_dups(df, dup_cols):\n",
    "    df = df.drop_duplicates(subset = dup_cols, ignore_index = True)\n",
    "    return df\n",
    "'''\n",
    "def drop_outs(df, out_cols):\n",
    "    q1 = df[out_cols].quantile(0.25)\n",
    "    q3 = df[out_cols].quantile(0.75)\n",
    "    iqr = q3 - q1\n",
    "    # remove outliers\n",
    "    df = df[(df[out_cols] > (q1 - 1.5 * iqr))\n",
    "            & (df[out_cols] < (q3 + 1.5 * iqr))]\n",
    "    return df \n",
    "'''\n",
    "def drop_na(df):\n",
    "    na = df.isnull().sum()\n",
    "    df = df.dropna()\n",
    "    print('Removed {} missing values'.format(na.sum()))\n",
    "    return df\n",
    "\n",
    "def set_cols_dtype(df, cols_dtype):\n",
    "    df = df.astype(cols_dtype)\n",
    "    return df\n",
    "\n",
    "def remove_spec_char(df, char_cols, char):\n",
    "    for i in char:\n",
    "        df[char_cols] = df[char_cols].str.replace(i, '')\n",
    "    return df\n",
    "    \n",
    "def data_cleaning_pipeline(df,\n",
    "                           dup_cols,\n",
    "                           #out_cols,\n",
    "                           char_cols, char,\n",
    "                           cols_dtype):\n",
    "    df = drop_dups(df, dup_cols)\n",
    "    #df = drop_outs(df, out_cols)\n",
    "    df = drop_na(df)\n",
    "    df = remove_spec_char(df, char_cols, char)\n",
    "    df = set_cols_dtype(df, cols_dtype)\n",
    "    return df \n",
    "\n"
   ]
  },
  {
   "cell_type": "code",
   "execution_count": 5,
   "id": "2ca974ec-8537-42fb-8974-92c2d3bb045f",
   "metadata": {},
   "outputs": [
    {
     "name": "stdout",
     "output_type": "stream",
     "text": [
      "Removed 4 missing values\n"
     ]
    },
    {
     "data": {
      "text/html": [
       "<div>\n",
       "<style scoped>\n",
       "    .dataframe tbody tr th:only-of-type {\n",
       "        vertical-align: middle;\n",
       "    }\n",
       "\n",
       "    .dataframe tbody tr th {\n",
       "        vertical-align: top;\n",
       "    }\n",
       "\n",
       "    .dataframe thead th {\n",
       "        text-align: right;\n",
       "    }\n",
       "</style>\n",
       "<table border=\"1\" class=\"dataframe\">\n",
       "  <thead>\n",
       "    <tr style=\"text-align: right;\">\n",
       "      <th></th>\n",
       "      <th>station_name</th>\n",
       "      <th>council_name</th>\n",
       "      <th>freq(mill)</th>\n",
       "    </tr>\n",
       "  </thead>\n",
       "  <tbody>\n",
       "    <tr>\n",
       "      <th>0</th>\n",
       "      <td>Acton Town</td>\n",
       "      <td>Ealing</td>\n",
       "      <td>6.04</td>\n",
       "    </tr>\n",
       "    <tr>\n",
       "      <th>1</th>\n",
       "      <td>Aldgate</td>\n",
       "      <td>City of London</td>\n",
       "      <td>8.85</td>\n",
       "    </tr>\n",
       "    <tr>\n",
       "      <th>2</th>\n",
       "      <td>Aldgate East</td>\n",
       "      <td>Tower Hamlets</td>\n",
       "      <td>14.00</td>\n",
       "    </tr>\n",
       "    <tr>\n",
       "      <th>3</th>\n",
       "      <td>Alperton</td>\n",
       "      <td>Brent</td>\n",
       "      <td>3.05</td>\n",
       "    </tr>\n",
       "    <tr>\n",
       "      <th>4</th>\n",
       "      <td>Amersham</td>\n",
       "      <td>Chiltern</td>\n",
       "      <td>2.32</td>\n",
       "    </tr>\n",
       "    <tr>\n",
       "      <th>...</th>\n",
       "      <td>...</td>\n",
       "      <td>...</td>\n",
       "      <td>...</td>\n",
       "    </tr>\n",
       "    <tr>\n",
       "      <th>263</th>\n",
       "      <td>Wimbledon Park</td>\n",
       "      <td>Merton</td>\n",
       "      <td>2.18</td>\n",
       "    </tr>\n",
       "    <tr>\n",
       "      <th>264</th>\n",
       "      <td>Wood Green</td>\n",
       "      <td>Haringey</td>\n",
       "      <td>12.89</td>\n",
       "    </tr>\n",
       "    <tr>\n",
       "      <th>265</th>\n",
       "      <td>Wood Lane</td>\n",
       "      <td>Hammersmith and Fulham</td>\n",
       "      <td>4.00</td>\n",
       "    </tr>\n",
       "    <tr>\n",
       "      <th>266</th>\n",
       "      <td>Woodford</td>\n",
       "      <td>Redbridge</td>\n",
       "      <td>5.98</td>\n",
       "    </tr>\n",
       "    <tr>\n",
       "      <th>267</th>\n",
       "      <td>Woodside Park</td>\n",
       "      <td>Barnet</td>\n",
       "      <td>3.54</td>\n",
       "    </tr>\n",
       "  </tbody>\n",
       "</table>\n",
       "<p>268 rows × 3 columns</p>\n",
       "</div>"
      ],
      "text/plain": [
       "       station_name            council_name  freq(mill)\n",
       "0        Acton Town                  Ealing        6.04\n",
       "1           Aldgate          City of London        8.85\n",
       "2      Aldgate East           Tower Hamlets       14.00\n",
       "3          Alperton                   Brent        3.05\n",
       "4          Amersham                Chiltern        2.32\n",
       "..              ...                     ...         ...\n",
       "263  Wimbledon Park                  Merton        2.18\n",
       "264      Wood Green                Haringey       12.89\n",
       "265       Wood Lane  Hammersmith and Fulham        4.00\n",
       "266        Woodford               Redbridge        5.98\n",
       "267   Woodside Park                  Barnet        3.54\n",
       "\n",
       "[268 rows x 3 columns]"
      ]
     },
     "execution_count": 5,
     "metadata": {},
     "output_type": "execute_result"
    }
   ],
   "source": [
    "ldn_sta_freq = data_cleaning_pipeline(\n",
    "                                      ldn_sta_freq_load,\n",
    "                                      ['station_name', 'council_name', 'freq(mill)'],\n",
    "                                      #['freq(mills)']\n",
    "                                      ',', '',\n",
    "                                      {\n",
    "                                        'station_name' : str,\n",
    "                                        'council_name' : str,\n",
    "                                        'freq(mill)' : np.float64    \n",
    "                                      }                                      \n",
    "                                     )\n",
    "ldn_sta_freq"
   ]
  },
  {
   "cell_type": "code",
   "execution_count": 6,
   "id": "ae1dd883-8801-4bb7-a837-94e62f1c3519",
   "metadata": {
    "scrolled": true,
    "tags": []
   },
   "outputs": [
    {
     "name": "stdout",
     "output_type": "stream",
     "text": [
      "Removed 0 missing values\n"
     ]
    },
    {
     "data": {
      "text/html": [
       "<div>\n",
       "<style scoped>\n",
       "    .dataframe tbody tr th:only-of-type {\n",
       "        vertical-align: middle;\n",
       "    }\n",
       "\n",
       "    .dataframe tbody tr th {\n",
       "        vertical-align: top;\n",
       "    }\n",
       "\n",
       "    .dataframe thead th {\n",
       "        text-align: right;\n",
       "    }\n",
       "</style>\n",
       "<table border=\"1\" class=\"dataframe\">\n",
       "  <thead>\n",
       "    <tr style=\"text-align: right;\">\n",
       "      <th></th>\n",
       "      <th>council_name</th>\n",
       "      <th>avg_hse_price(mill)</th>\n",
       "    </tr>\n",
       "  </thead>\n",
       "  <tbody>\n",
       "    <tr>\n",
       "      <th>0</th>\n",
       "      <td>Adur</td>\n",
       "      <td>306921.0</td>\n",
       "    </tr>\n",
       "    <tr>\n",
       "      <th>1</th>\n",
       "      <td>Allerdale</td>\n",
       "      <td>149657.0</td>\n",
       "    </tr>\n",
       "    <tr>\n",
       "      <th>2</th>\n",
       "      <td>Amber Valley</td>\n",
       "      <td>170198.0</td>\n",
       "    </tr>\n",
       "    <tr>\n",
       "      <th>3</th>\n",
       "      <td>Arun</td>\n",
       "      <td>288820.0</td>\n",
       "    </tr>\n",
       "    <tr>\n",
       "      <th>4</th>\n",
       "      <td>Ashfield</td>\n",
       "      <td>135115.0</td>\n",
       "    </tr>\n",
       "    <tr>\n",
       "      <th>...</th>\n",
       "      <td>...</td>\n",
       "      <td>...</td>\n",
       "    </tr>\n",
       "    <tr>\n",
       "      <th>348</th>\n",
       "      <td>Wycombe</td>\n",
       "      <td>405071.0</td>\n",
       "    </tr>\n",
       "    <tr>\n",
       "      <th>349</th>\n",
       "      <td>Wyre</td>\n",
       "      <td>150409.0</td>\n",
       "    </tr>\n",
       "    <tr>\n",
       "      <th>350</th>\n",
       "      <td>Wyre Forest</td>\n",
       "      <td>184840.0</td>\n",
       "    </tr>\n",
       "    <tr>\n",
       "      <th>351</th>\n",
       "      <td>York</td>\n",
       "      <td>242125.0</td>\n",
       "    </tr>\n",
       "    <tr>\n",
       "      <th>352</th>\n",
       "      <td>England</td>\n",
       "      <td>243582.0</td>\n",
       "    </tr>\n",
       "  </tbody>\n",
       "</table>\n",
       "<p>353 rows × 2 columns</p>\n",
       "</div>"
      ],
      "text/plain": [
       "     council_name  avg_hse_price(mill)\n",
       "0            Adur             306921.0\n",
       "1       Allerdale             149657.0\n",
       "2    Amber Valley             170198.0\n",
       "3            Arun             288820.0\n",
       "4        Ashfield             135115.0\n",
       "..            ...                  ...\n",
       "348       Wycombe             405071.0\n",
       "349          Wyre             150409.0\n",
       "350   Wyre Forest             184840.0\n",
       "351          York             242125.0\n",
       "352       England             243582.0\n",
       "\n",
       "[353 rows x 2 columns]"
      ]
     },
     "execution_count": 6,
     "metadata": {},
     "output_type": "execute_result"
    }
   ],
   "source": [
    "ldn_hse_price = data_cleaning_pipeline( \n",
    "                                       ldn_hse_price_load,\n",
    "                                       ['council_name', 'avg_hse_price(mill)'],\n",
    "                                       'avg_hse_price(mill)', ['£',','],\n",
    "                                       {\n",
    "                                           'council_name' : str,\n",
    "                                           'avg_hse_price(mill)' : np.float64\n",
    "                                       }\n",
    "                                    )\n",
    "ldn_hse_price"
   ]
  },
  {
   "cell_type": "markdown",
   "id": "880695d4-36d2-49fb-8fdf-5d920944f5e7",
   "metadata": {},
   "source": [
    "#### The two **cleaned** dataframes are:\n",
    "* `ldn_sta_freq`\n",
    "* `ldn_hse_price`\n",
    "\n",
    "Both dataframes are then checked for consistency."
   ]
  },
  {
   "cell_type": "markdown",
   "id": "403dafc8-8ddf-4a2a-bf97-d28b1ef426a1",
   "metadata": {},
   "source": [
    "#### Consistency check\n",
    "##### First, to ensure the consistency of the unique councils in `ldn_sta_freq` with public records.\n",
    "  - The total number of unique councils in ldn_sta_freq is required to be same as the total number of stations in public records.\n",
    "  - Station names are required to be consistent."
   ]
  },
  {
   "cell_type": "code",
   "execution_count": 7,
   "id": "6cded86a-8466-411e-ba7d-7b50bdd2d686",
   "metadata": {},
   "outputs": [
    {
     "name": "stdout",
     "output_type": "stream",
     "text": [
      "The total number of unique councils in ldn_sta_freq is 31.\n",
      "['Ealing' 'City of London' 'Tower Hamlets' 'Brent' 'Chiltern' 'Islington'\n",
      " 'Enfield' 'City of Westminster' 'Wandsworth' 'Barking and Dagenham'\n",
      " 'Redbridge' 'Hammersmith and Fulham' 'Camden' 'Southwark'\n",
      " 'Waltham Forest' 'Haringey' 'Barnet' 'Lambeth' 'Epping Forest' 'Newham'\n",
      " 'Harrow' 'Three Rivers' 'Merton' 'Kensington and Chelsea' 'Hillingdon'\n",
      " 'Havering' 'Hounslow' 'Richmond' 'Hackney' 'Greenwich' 'Watford']\n"
     ]
    }
   ],
   "source": [
    "u_sta_freq = ldn_sta_freq['council_name'].unique()\n",
    "print(f'The total number of unique councils in ldn_sta_freq is {len(u_sta_freq)}.')\n",
    "print(u_sta_freq)"
   ]
  },
  {
   "cell_type": "markdown",
   "id": "7bbadb18-fdf0-47fd-b866-f6ef08a53541",
   "metadata": {},
   "source": [
    "When this figure was checked with public records, there was a total of 33 London councils including the City Of London. Upon further investigation, several factors were required to be taken into account.\n",
    "\n",
    "Six london councils were removed because they do not posess any London underground stations, these stations are listed below:\n",
    "- Bexley\n",
    "- Bromley\n",
    "- Croydon\n",
    "- Kingston Upon Thames\n",
    "- Lewisham\n",
    "- Sutton\n",
    "\n",
    "Four councils were added because they posess at least one London underground station, these stations are listed below:\n",
    "- Chiltern\n",
    "- Epping Forest\n",
    "- Three Rivers\n",
    "- Watford\n",
    "\n",
    "Hence, the figure of 31 councils with London underground stations were consistent with public records when these factors were taken into account."
   ]
  },
  {
   "cell_type": "markdown",
   "id": "5d0a7cf1-7d4f-4f7b-afb4-51bdec5ec717",
   "metadata": {},
   "source": [
    "##### Next, to ensure the consistency of the *council_name* columns in `ldn_sta_freq` and `ldn_hse_price`. \n",
    "  - The total number of unique councils in ldn_sta_freq is required to be the same as the total number of councils in ldn_hse_price.\n",
    "  - Council names are required to be consistent."
   ]
  },
  {
   "cell_type": "code",
   "execution_count": 8,
   "id": "a1e35d62-4ead-4ffc-b8cd-9ee312ce3db2",
   "metadata": {},
   "outputs": [
    {
     "name": "stdout",
     "output_type": "stream",
     "text": [
      "The total number of councils in ldn_hse_price that match with councils in ldn_sta_freq is 29.\n"
     ]
    }
   ],
   "source": [
    "a = ldn_hse_price['council_name'].isin(ldn_sta_freq['council_name'])\n",
    "u_hse_price = ldn_hse_price['council_name'].loc[a]\n",
    "print(f'The total number of councils in ldn_hse_price that match with councils in ldn_sta_freq is {len(u_hse_price)}.')"
   ]
  },
  {
   "cell_type": "markdown",
   "id": "12129872-3fc7-4e98-8ec9-c812031d3be2",
   "metadata": {},
   "source": [
    "This figure is inconsitent with the total number of councils in public records and ldn_sta_freq. "
   ]
  },
  {
   "cell_type": "code",
   "execution_count": 9,
   "id": "6d1a3d5a-6dc9-43a1-a9de-c0d7dad4361a",
   "metadata": {},
   "outputs": [
    {
     "name": "stdout",
     "output_type": "stream",
     "text": [
      "['Kensington and Chelsea' 'Richmond']\n"
     ]
    }
   ],
   "source": [
    "sf_hp = ldn_sta_freq['council_name'].isin(ldn_hse_price['council_name'])\n",
    "sf_hp_diff = ldn_sta_freq['council_name'].loc[~sf_hp].unique()\n",
    "print(sf_hp_diff)"
   ]
  },
  {
   "cell_type": "markdown",
   "id": "4d75ae44-77cd-4ae4-ab13-936fe77b871d",
   "metadata": {},
   "source": [
    "Hence, the two dataframes council_name column entries were tested for consistency. Kensington and Chelsea, Richmond councils were missing in ldn_hse_price so they were searched as it could be named differently."
   ]
  },
  {
   "cell_type": "code",
   "execution_count": 10,
   "id": "fb0476fe-ae3d-48d9-91df-04350af05a48",
   "metadata": {},
   "outputs": [
    {
     "data": {
      "text/html": [
       "<div>\n",
       "<style scoped>\n",
       "    .dataframe tbody tr th:only-of-type {\n",
       "        vertical-align: middle;\n",
       "    }\n",
       "\n",
       "    .dataframe tbody tr th {\n",
       "        vertical-align: top;\n",
       "    }\n",
       "\n",
       "    .dataframe thead th {\n",
       "        text-align: right;\n",
       "    }\n",
       "</style>\n",
       "<table border=\"1\" class=\"dataframe\">\n",
       "  <thead>\n",
       "    <tr style=\"text-align: right;\">\n",
       "      <th></th>\n",
       "      <th>council_name</th>\n",
       "      <th>avg_hse_price(mill)</th>\n",
       "    </tr>\n",
       "  </thead>\n",
       "  <tbody>\n",
       "    <tr>\n",
       "      <th>154</th>\n",
       "      <td>Kensington And Chelsea</td>\n",
       "      <td>1212292.0</td>\n",
       "    </tr>\n",
       "  </tbody>\n",
       "</table>\n",
       "</div>"
      ],
      "text/plain": [
       "               council_name  avg_hse_price(mill)\n",
       "154  Kensington And Chelsea            1212292.0"
      ]
     },
     "execution_count": 10,
     "metadata": {},
     "output_type": "execute_result"
    }
   ],
   "source": [
    "ken = ldn_hse_price['council_name'].str.contains('Kensington')\n",
    "ldn_hse_price.loc[ken]"
   ]
  },
  {
   "cell_type": "markdown",
   "id": "7bb25b32-d451-4c7c-bbdf-c2ec661c8515",
   "metadata": {},
   "source": [
    "As seen above, the 'A' in 'And' is uppercase in ldn_hse_price."
   ]
  },
  {
   "cell_type": "code",
   "execution_count": 11,
   "id": "8b871a92-a608-4963-982b-9093cee3c97a",
   "metadata": {},
   "outputs": [
    {
     "data": {
      "text/html": [
       "<div>\n",
       "<style scoped>\n",
       "    .dataframe tbody tr th:only-of-type {\n",
       "        vertical-align: middle;\n",
       "    }\n",
       "\n",
       "    .dataframe tbody tr th {\n",
       "        vertical-align: top;\n",
       "    }\n",
       "\n",
       "    .dataframe thead th {\n",
       "        text-align: right;\n",
       "    }\n",
       "</style>\n",
       "<table border=\"1\" class=\"dataframe\">\n",
       "  <thead>\n",
       "    <tr style=\"text-align: right;\">\n",
       "      <th></th>\n",
       "      <th>council_name</th>\n",
       "      <th>avg_hse_price(mill)</th>\n",
       "    </tr>\n",
       "  </thead>\n",
       "  <tbody>\n",
       "    <tr>\n",
       "      <th>229</th>\n",
       "      <td>Richmond upon Thames</td>\n",
       "      <td>668369.0</td>\n",
       "    </tr>\n",
       "    <tr>\n",
       "      <th>230</th>\n",
       "      <td>Richmondshire</td>\n",
       "      <td>201638.0</td>\n",
       "    </tr>\n",
       "  </tbody>\n",
       "</table>\n",
       "</div>"
      ],
      "text/plain": [
       "             council_name  avg_hse_price(mill)\n",
       "229  Richmond upon Thames             668369.0\n",
       "230         Richmondshire             201638.0"
      ]
     },
     "execution_count": 11,
     "metadata": {},
     "output_type": "execute_result"
    }
   ],
   "source": [
    "rich = ldn_hse_price['council_name'].str.contains('Rich')\n",
    "ldn_hse_price.loc[rich]"
   ]
  },
  {
   "cell_type": "markdown",
   "id": "e5c60a6b-6055-4504-9002-1e5bcb3c7a06",
   "metadata": {},
   "source": [
    "As clearly seen, Richmond is named as Richmond upon Thames in ldn_hse_price."
   ]
  },
  {
   "cell_type": "markdown",
   "id": "4abe9b70-1bf3-4c7f-989d-70d80def6991",
   "metadata": {},
   "source": [
    "##### Finally, to ensure the consistency of the stations in `ldn_sta_freq` with public records.\n",
    "  - The total number of stations in ldn_sta_freq is required to be same as the total number of stations in public records.\n",
    "  - Station names are required to be consistent."
   ]
  },
  {
   "cell_type": "code",
   "execution_count": 14,
   "id": "ff209ed4-5e3e-4d3f-9718-8bc744041dfa",
   "metadata": {},
   "outputs": [
    {
     "name": "stdout",
     "output_type": "stream",
     "text": [
      "The total number of London underground staions were 268 in ldn_sta_freq.\n"
     ]
    }
   ],
   "source": [
    "print(f'The total number of London underground staions were {len(ldn_sta_freq)} in ldn_sta_freq.')"
   ]
  },
  {
   "cell_type": "markdown",
   "id": "0ba219d2-6930-4fa6-a750-ab2592505e13",
   "metadata": {},
   "source": [
    "After the initial cleaning process, the total number of underground stations in the ldn_sta_freq dataframe was 268 which is inconsistent with public records. The total number of underground stations in 2017 was 270. The records of the missing stations must be discovered and imported accordingly."
   ]
  },
  {
   "cell_type": "code",
   "execution_count": null,
   "id": "2e99f29f-bd66-497f-a9c6-0bffd1765f56",
   "metadata": {},
   "outputs": [],
   "source": []
  }
 ],
 "metadata": {
  "kernelspec": {
   "display_name": "Python 3 (ipykernel)",
   "language": "python",
   "name": "python3"
  },
  "language_info": {
   "codemirror_mode": {
    "name": "ipython",
    "version": 3
   },
   "file_extension": ".py",
   "mimetype": "text/x-python",
   "name": "python",
   "nbconvert_exporter": "python",
   "pygments_lexer": "ipython3",
   "version": "3.11.5"
  }
 },
 "nbformat": 4,
 "nbformat_minor": 5
}
