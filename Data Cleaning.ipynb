{
 "cells": [
  {
   "cell_type": "markdown",
   "id": "0d9579c7-5613-48ad-a089-314c8c652f9d",
   "metadata": {},
   "source": [
    "# The More The Merrier (Data Cleaning)"
   ]
  },
  {
   "cell_type": "markdown",
   "id": "3804c845-64ca-448b-b9c0-11f2e88cf730",
   "metadata": {},
   "source": [
    "**Description:** This notebook is dedicated to the preprocessing and cleaning of raw data stored in *csv* files using the \n",
    "*Pandas* library, specifically focusing on three key datasets for this project.\n",
    "\n",
    "- **Data:** Datasets to clean:\n",
    "  - `2017_Entry_Exit.csv`\n",
    "  - `2017_Average_Housing_Prices_in_London.csv`\n",
    "  - ` LondonUnderground_Stations_Boroughs.csv `\n"
   ]
  },
  {
   "cell_type": "code",
   "execution_count": 1,
   "id": "2c52741e-4607-4fce-a7ae-c006b87b2cab",
   "metadata": {},
   "outputs": [],
   "source": [
    "# importing the necessary libraries\n",
    "import pandas as pd\n",
    "import numpy as np"
   ]
  },
  {
   "cell_type": "code",
   "execution_count": 2,
   "id": "9f32dee4-5f52-40b5-a87d-13776b4c2fd2",
   "metadata": {},
   "outputs": [],
   "source": [
    "def load_data(filepath):\n",
    "    '''\n",
    "    This function loads raw data from a csv file into a pandas dataframe and sets the primary key as the index column\n",
    "    Args:\n",
    "        filepath: the raw data's filepath in csv format\n",
    "    Return:\n",
    "        The loaded raw data into the pandas dataframe ready to be preprocessed\n",
    "    '''\n",
    "    df = pd.read_csv(filepath)\n",
    "    return df "
   ]
  },
  {
   "cell_type": "markdown",
   "id": "b5b5d097-853c-4c0b-91cb-6dec9e986447",
   "metadata": {},
   "source": [
    "### Data Wrangling \n",
    "**Description:** After loading the raw data into a dataframe with the function 'load_data', the next step is to wrangle the data. This process involves selecting the relevant columns for analysis, simplifying the column names and adjusting their data types. This process is done using a created class of objects that carries out the aforementioned tasks individually to a dataframe. The resulting dataframes are then ready to be cleaned."
   ]
  },
  {
   "cell_type": "code",
   "execution_count": 3,
   "id": "df1d233e-3c2a-41ab-b60d-26567bff075e",
   "metadata": {},
   "outputs": [],
   "source": [
    "class data_wrangler:\n",
    "    '''\n",
    "    This class does the necessary data wrangling such as selecting the relevant columns, setting each column's data type\n",
    "    and renaming the columns.\n",
    "    '''\n",
    "    def __init__(self, df):\n",
    "        self.df = df\n",
    "    \n",
    "    def get_data(self):\n",
    "        return self.df\n",
    "    \n",
    "    def select_cols(self,cols):\n",
    "        self.df = self.df[cols]\n",
    "        cleaned_data = data_wrangler(df)\n",
    "        return self.df\n",
    "\n",
    "    def adjust_col_dtypes(self,col_dtypes):\n",
    "        self.df = self.df.astype(col_dtypes)\n",
    "        cleaned_data = data_wrangler(self.df)\n",
    "        return self.df\n",
    "    \n",
    "    def rename_cols(self,rename):\n",
    "        self.df.columns = rename\n",
    "        cleaned_data = data_wrangler(self.df)\n",
    "        return self.df\n",
    "    "
   ]
  },
  {
   "cell_type": "code",
   "execution_count": 4,
   "id": "df2f4286-3cf0-47b6-b003-5af89cd7d938",
   "metadata": {},
   "outputs": [],
   "source": [
    "raw_df = load_data(r'C:\\Users\\pjxph\\Documents\\Data Science Projects\\The More The Merrier\\raw data\\2017_Entry_Exit.csv')\n",
    "# list of all london stations with it's each respective frequency of touch ins and touch outs."
   ]
  },
  {
   "cell_type": "code",
   "execution_count": 5,
   "id": "cf8f47c4-6e6f-4c19-a8aa-49fb6daf124f",
   "metadata": {},
   "outputs": [],
   "source": [
    "df = data_wrangler(raw_df)\n",
    "df = df.select_cols(['Station_ID','Station_Name','AnnualEntryExit_Mill'])\n",
    "df = data_wrangler(df)\n",
    "df = df.rename_cols(['id','station_name','frequency(mill)'])\n",
    "df = data_wrangler(df)\n",
    "df = df.adjust_col_dtypes({\n",
    "    'id' : int,\n",
    "    'station_name' : str,\n",
    "    'frequency(mill)' : np.float64\n",
    "})\n",
    "ldn_sta_freq = df"
   ]
  },
  {
   "cell_type": "code",
   "execution_count": 6,
   "id": "609cd621-fad1-4411-b9e9-b21b8e5d9a0b",
   "metadata": {},
   "outputs": [],
   "source": [
    "# 2017_Average_hse_price\n",
    "raw_df = load_data(r'C:\\Users\\pjxph\\Documents/Data Science Projects/The More The Merrier/raw data/2017_Average_Housing_Prices_in_London.csv')"
   ]
  },
  {
   "cell_type": "code",
   "execution_count": 7,
   "id": "203a5ea5-7318-4944-99ca-23cced2068e1",
   "metadata": {
    "tags": []
   },
   "outputs": [],
   "source": [
    "df = data_wrangler(raw_df)\n",
    "df = df.select_cols(['Area_ID','Area_Name','average_hse_price'])\n",
    "df = data_wrangler(df)\n",
    "df = df.rename_cols(['id','name','avg_hse_price'])\n",
    "df = data_wrangler(df)\n",
    "df = df.adjust_col_dtypes({\n",
    "    'id' : str,\n",
    "    'name' : str,\n",
    "    'avg_hse_price' : np.float64\n",
    "})\n",
    "ldn_hse_price = df "
   ]
  },
  {
   "cell_type": "code",
   "execution_count": 8,
   "id": "d3fc7c24-1e76-48e9-92ea-dce13cf1ea8f",
   "metadata": {},
   "outputs": [],
   "source": [
    "raw_df = load_data(r'C:\\Users\\pjxph\\Documents/Data Science Projects/The More The Merrier/raw data/LondonUnderground_Stations_Boroughs.csv')"
   ]
  },
  {
   "cell_type": "code",
   "execution_count": 9,
   "id": "d3cbeedf-d5e1-4a05-8ab7-4fd3fa6ab5bc",
   "metadata": {},
   "outputs": [
    {
     "data": {
      "text/html": [
       "<div>\n",
       "<style scoped>\n",
       "    .dataframe tbody tr th:only-of-type {\n",
       "        vertical-align: middle;\n",
       "    }\n",
       "\n",
       "    .dataframe tbody tr th {\n",
       "        vertical-align: top;\n",
       "    }\n",
       "\n",
       "    .dataframe thead th {\n",
       "        text-align: right;\n",
       "    }\n",
       "</style>\n",
       "<table border=\"1\" class=\"dataframe\">\n",
       "  <thead>\n",
       "    <tr style=\"text-align: right;\">\n",
       "      <th></th>\n",
       "      <th>OBJECTID</th>\n",
       "      <th>NAME</th>\n",
       "      <th>NETWORK</th>\n",
       "      <th>Zone</th>\n",
       "      <th>area</th>\n",
       "      <th>Unnamed: 5</th>\n",
       "      <th>Unnamed: 6</th>\n",
       "    </tr>\n",
       "  </thead>\n",
       "  <tbody>\n",
       "    <tr>\n",
       "      <th>0</th>\n",
       "      <td>1</td>\n",
       "      <td>Brent Cross</td>\n",
       "      <td>London Underground</td>\n",
       "      <td>3</td>\n",
       "      <td>Barnet</td>\n",
       "      <td>NaN</td>\n",
       "      <td>London Underground</td>\n",
       "    </tr>\n",
       "    <tr>\n",
       "      <th>1</th>\n",
       "      <td>2</td>\n",
       "      <td>Colindale</td>\n",
       "      <td>London Underground</td>\n",
       "      <td>4</td>\n",
       "      <td>Barnet</td>\n",
       "      <td>NaN</td>\n",
       "      <td>London Underground</td>\n",
       "    </tr>\n",
       "    <tr>\n",
       "      <th>2</th>\n",
       "      <td>3</td>\n",
       "      <td>Burnt Oak</td>\n",
       "      <td>London Underground</td>\n",
       "      <td>4</td>\n",
       "      <td>Barnet</td>\n",
       "      <td>NaN</td>\n",
       "      <td>London Underground</td>\n",
       "    </tr>\n",
       "    <tr>\n",
       "      <th>3</th>\n",
       "      <td>4</td>\n",
       "      <td>Edgware</td>\n",
       "      <td>London Underground</td>\n",
       "      <td>5</td>\n",
       "      <td>Barnet</td>\n",
       "      <td>NaN</td>\n",
       "      <td>London Underground</td>\n",
       "    </tr>\n",
       "    <tr>\n",
       "      <th>4</th>\n",
       "      <td>5</td>\n",
       "      <td>Mill Hill East</td>\n",
       "      <td>London Underground</td>\n",
       "      <td>4</td>\n",
       "      <td>Barnet</td>\n",
       "      <td>NaN</td>\n",
       "      <td>London Underground</td>\n",
       "    </tr>\n",
       "  </tbody>\n",
       "</table>\n",
       "</div>"
      ],
      "text/plain": [
       "   OBJECTID            NAME             NETWORK  Zone    area  Unnamed: 5  \\\n",
       "0         1     Brent Cross  London Underground     3  Barnet         NaN   \n",
       "1         2       Colindale  London Underground     4  Barnet         NaN   \n",
       "2         3       Burnt Oak  London Underground     4  Barnet         NaN   \n",
       "3         4         Edgware  London Underground     5  Barnet         NaN   \n",
       "4         5  Mill Hill East  London Underground     4  Barnet         NaN   \n",
       "\n",
       "           Unnamed: 6  \n",
       "0  London Underground  \n",
       "1  London Underground  \n",
       "2  London Underground  \n",
       "3  London Underground  \n",
       "4  London Underground  "
      ]
     },
     "execution_count": 9,
     "metadata": {},
     "output_type": "execute_result"
    }
   ],
   "source": [
    "raw_df.head()"
   ]
  },
  {
   "cell_type": "code",
   "execution_count": 10,
   "id": "dab551d9-8caf-4e34-bb4f-31a2f371a4e5",
   "metadata": {},
   "outputs": [],
   "source": [
    "df = data_wrangler(raw_df)\n",
    "df = df.select_cols(['OBJECTID','NAME','area'])\n",
    "df = data_wrangler(df)\n",
    "df = df.rename_cols(['id','station_name','area_name'])\n",
    "df = data_wrangler(df)\n",
    "df = df.adjust_col_dtypes({\n",
    "    'id' : np.int64,\n",
    "    'station_name' : str,\n",
    "    'area_name' : str\n",
    "})\n",
    "ldn_bor = df "
   ]
  },
  {
   "cell_type": "code",
   "execution_count": 11,
   "id": "ab1f3ec1-c2bc-479e-a8de-8ec81c479dc0",
   "metadata": {},
   "outputs": [],
   "source": [
    "# ldn_sta_freq\n",
    "#ldn_hse_price\n",
    "# ldn_bor"
   ]
  },
  {
   "cell_type": "markdown",
   "id": "29d7c71c-a531-4d0f-bdf2-f4ea7c34e9e4",
   "metadata": {},
   "source": [
    "#### The three **wrangled** dataframes are:\n",
    "* `ldn_sta_freq`\n",
    "* `ldn_hse_price`\n",
    "* `ldn_bor`\n",
    "\n",
    "Time to clean!"
   ]
  },
  {
   "cell_type": "markdown",
   "id": "1387a476-7629-4637-8101-465ccda9e13c",
   "metadata": {},
   "source": [
    "### Data Cleaning\n",
    "**Description:** After the data wrangling process, the wrangled data needs to be cleaned. The following processes were carried out:\n",
    "- Ensure the consistency of the station name column in ldn_sta_freq and ldn_bor. \n",
    "  - The total number of stations should be the same.\n",
    "  - Station names should be consistent\n",
    "\n",
    "- Ensure the consistency of the area_name column in ldn_hse_price and ldn_bor.\n",
    "  - The total number of london boroughs should be the same.\n",
    "  - Borough names should be consistent.\n",
    "- Ensure that each area name is consistent in ldn_bor"
   ]
  },
  {
   "cell_type": "code",
   "execution_count": 12,
   "id": "bf4a39ec-2f90-4088-b6ef-c326f31da47c",
   "metadata": {},
   "outputs": [],
   "source": [
    "class data_cleaner:\n",
    "    '''\n",
    "    This class does the necessary data cleaning such as removing duplicates and NaN values for the chosen column.\n",
    "    '''\n",
    "    def __init__(self, df):\n",
    "        self.df = df\n",
    "        \n",
    "    def drop_dups(self,columns):\n",
    "        self.df = ((self.df).drop_duplicates(subset = columns, ignore_index = True))\n",
    "        return self.df \n",
    "    \n",
    "    def drop_na(self):\n",
    "        self.df = self.df.dropna()\n",
    "        return self.df"
   ]
  },
  {
   "cell_type": "markdown",
   "id": "f0801b75-69a1-4060-a8f9-94fbf82886cb",
   "metadata": {},
   "source": [
    "Firstly, the total number of objects in each dataframe such as london station and boroughs were checked against public records."
   ]
  },
  {
   "cell_type": "code",
   "execution_count": 13,
   "id": "b73cd63f-db20-451d-a0b6-f4a450762e38",
   "metadata": {},
   "outputs": [
    {
     "name": "stdout",
     "output_type": "stream",
     "text": [
      "268\n",
      "34\n",
      "270\n"
     ]
    }
   ],
   "source": [
    "# raw_data \n",
    "print(len(ldn_sta_freq.index))\n",
    "print(len(ldn_hse_price.index))\n",
    "print(len(ldn_bor.index))"
   ]
  },
  {
   "cell_type": "code",
   "execution_count": 14,
   "id": "47b6b187-22c1-4129-8f20-43b55dee619b",
   "metadata": {},
   "outputs": [
    {
     "data": {
      "text/plain": [
       "Index(['id', 'station_name', 'frequency(mill)'], dtype='object')"
      ]
     },
     "execution_count": 14,
     "metadata": {},
     "output_type": "execute_result"
    }
   ],
   "source": [
    "# To decide which columns to remove duplicates \n",
    "ldn_sta_freq.columns"
   ]
  },
  {
   "cell_type": "code",
   "execution_count": 15,
   "id": "766e6d01-7b5c-4077-bf7d-111908318e7f",
   "metadata": {},
   "outputs": [
    {
     "name": "stdout",
     "output_type": "stream",
     "text": [
      "268\n"
     ]
    }
   ],
   "source": [
    "# Partially cleaned ldn_sta_freq\n",
    "df = data_cleaner(ldn_sta_freq)\n",
    "df = df.drop_na()\n",
    "df = data_cleaner(df)\n",
    "df = df.drop_dups(['station_name'])\n",
    "df['station_name'] = df['station_name'].str.upper()\n",
    "ldn_sta_freq = df\n",
    "print(len(ldn_sta_freq.index))"
   ]
  },
  {
   "cell_type": "markdown",
   "id": "0ba219d2-6930-4fa6-a750-ab2592505e13",
   "metadata": {},
   "source": [
    "The total number of underground stations in 2017 with reference to public record was 270 which is inconsistent with the stations in the ldn_sta_freq dataframe. The records of the missing stations must be discovered and imported accordingly."
   ]
  },
  {
   "cell_type": "code",
   "execution_count": 16,
   "id": "fd435067-872a-4b2d-9420-949cc366361b",
   "metadata": {},
   "outputs": [
    {
     "data": {
      "text/plain": [
       "Index(['id', 'name', 'avg_hse_price'], dtype='object')"
      ]
     },
     "execution_count": 16,
     "metadata": {},
     "output_type": "execute_result"
    }
   ],
   "source": [
    "# To decide which columns to remove duplicates \n",
    "ldn_hse_price.columns"
   ]
  },
  {
   "cell_type": "code",
   "execution_count": 17,
   "id": "95d2ae39-5251-4fee-a3b4-f2f61cd7f216",
   "metadata": {},
   "outputs": [
    {
     "name": "stdout",
     "output_type": "stream",
     "text": [
      "33\n"
     ]
    }
   ],
   "source": [
    "# Partially cleaned ldn_hse_price\n",
    "df = data_cleaner(ldn_hse_price)\n",
    "df = df.drop_na()\n",
    "df = data_cleaner(df)\n",
    "df = df.drop_dups(['id','name'])\n",
    "df['name'] = df['name'].str.upper()\n",
    "ldn_hse_price = df\n",
    "print(len(ldn_hse_price.index))"
   ]
  },
  {
   "cell_type": "markdown",
   "id": "f26fad7d-7dec-4a4b-9e3b-ab80e77f5903",
   "metadata": {},
   "source": [
    "The total number of London borough council in 2017 with reference to public record was 32 + city of london which is consistent with the number of areas in the ldn_hse_price dataframe. "
   ]
  },
  {
   "cell_type": "code",
   "execution_count": 18,
   "id": "902ceb4f-0dcb-496a-a299-fde40f562eb6",
   "metadata": {},
   "outputs": [
    {
     "data": {
      "text/plain": [
       "Index(['id', 'station_name', 'area_name'], dtype='object')"
      ]
     },
     "execution_count": 18,
     "metadata": {},
     "output_type": "execute_result"
    }
   ],
   "source": [
    "# To decide which columns to remove duplicates \n",
    "ldn_bor.columns"
   ]
  },
  {
   "cell_type": "code",
   "execution_count": 19,
   "id": "5132cbd4-cdf5-4a36-88e3-1231046b9fdd",
   "metadata": {},
   "outputs": [
    {
     "name": "stdout",
     "output_type": "stream",
     "text": [
      "268\n"
     ]
    }
   ],
   "source": [
    "### Partially cleaned ldn_bor\n",
    "df = data_cleaner(ldn_bor)\n",
    "df = df.drop_dups(['station_name'])\n",
    "df = data_cleaner(df)\n",
    "df = df.drop_na()\n",
    "df['station_name'] = df['station_name'].str.upper()\n",
    "df['area_name'] = df['area_name'].str.upper()\n",
    "ldn_bor = df\n",
    "print(len(ldn_bor.index))\n",
    "#print(len(ldn_bor['station_name'].unique()))"
   ]
  },
  {
   "cell_type": "code",
   "execution_count": 20,
   "id": "4b3e7178-c5d5-4ca1-b1dc-ce62dece7605",
   "metadata": {},
   "outputs": [
    {
     "data": {
      "text/plain": [
       "True    268\n",
       "Name: station_name, dtype: int64"
      ]
     },
     "execution_count": 20,
     "metadata": {},
     "output_type": "execute_result"
    }
   ],
   "source": [
    "# Test if all station names in ldn_bor dataframe are in ldn_sta_freq dataframe\n",
    "ldn_bor['station_name'].isin(ldn_sta_freq['station_name']).value_counts()"
   ]
  },
  {
   "cell_type": "code",
   "execution_count": 21,
   "id": "7ad8dcdd-80c8-404e-ba70-0084f4aba5d0",
   "metadata": {},
   "outputs": [
    {
     "data": {
      "text/plain": [
       "array(['BARNET', 'EALING', 'BRENT', 'CITY OF WESTMINSTER',\n",
       "       'KENSINGTON AND CHELSEA', 'CAMDEN', 'ISLINGTON', 'ENFIELD',\n",
       "       'HACKNEY', 'HAVERING', 'HILLINGDON', 'HAMMERSMITH AND FULHAM',\n",
       "       'CITY OF LONDON', 'TOWER HAMLETS', 'WALTHAM FOREST', 'REDBRIDGE',\n",
       "       'EPPING FOREST', 'NEWHAM', 'BARKING AND DAGENHAM', 'MERTON',\n",
       "       'WANDSWORTH', 'LAMBETH', 'HARINGEY', 'HOUNSLOW', 'HARROW',\n",
       "       'RICHMOND UPON THAMES', 'SOUTHWARK', 'CHILTERN', 'GREENWICH',\n",
       "       'THREE RIVERS', 'WATFORD'], dtype=object)"
      ]
     },
     "execution_count": 21,
     "metadata": {},
     "output_type": "execute_result"
    }
   ],
   "source": [
    "(ldn_bor['area_name'].unique())"
   ]
  },
  {
   "cell_type": "code",
   "execution_count": 22,
   "id": "4d8f65ef-1d8b-4a58-ad3e-eae8d273083b",
   "metadata": {},
   "outputs": [
    {
     "data": {
      "text/plain": [
       "0             CITY OF LONDON\n",
       "1       BARKING AND DAGENHAM\n",
       "2                     BARNET\n",
       "3                     BEXLEY\n",
       "4                      BRENT\n",
       "5                    BROMLEY\n",
       "6                     CAMDEN\n",
       "7                    CROYDON\n",
       "8                     EALING\n",
       "9                    ENFIELD\n",
       "10                 GREENWICH\n",
       "11                   HACKNEY\n",
       "12    HAMMERSMITH AND FULHAM\n",
       "13                  HARINGEY\n",
       "14                    HARROW\n",
       "15                  HAVERING\n",
       "16                HILLINGDON\n",
       "17                  HOUNSLOW\n",
       "18                 ISLINGTON\n",
       "19    KENSINGTON AND CHELSEA\n",
       "20      KINGSTON UPON THAMES\n",
       "21                   LAMBETH\n",
       "22                  LEWISHAM\n",
       "23                    MERTON\n",
       "24                    NEWHAM\n",
       "25                 REDBRIDGE\n",
       "26      RICHMOND UPON THAMES\n",
       "27                 SOUTHWARK\n",
       "28                    SUTTON\n",
       "29             TOWER HAMLETS\n",
       "30            WALTHAM FOREST\n",
       "31                WANDSWORTH\n",
       "32       CITY OF WESTMINSTER\n",
       "Name: name, dtype: object"
      ]
     },
     "execution_count": 22,
     "metadata": {},
     "output_type": "execute_result"
    }
   ],
   "source": [
    "ldn_hse_price['name']"
   ]
  },
  {
   "cell_type": "code",
   "execution_count": 23,
   "id": "bd66dd73-9141-4ab7-a5ae-2967b11a8e4a",
   "metadata": {},
   "outputs": [
    {
     "name": "stdout",
     "output_type": "stream",
     "text": [
      "True     27\n",
      "False     6\n",
      "Name: name, dtype: int64\n"
     ]
    }
   ],
   "source": [
    "a = ldn_hse_price['name'].isin(ldn_bor['area_name'])\n",
    "print(a.value_counts())"
   ]
  },
  {
   "cell_type": "code",
   "execution_count": 24,
   "id": "3ac92aeb-fbef-4ad5-af92-064a681a3027",
   "metadata": {},
   "outputs": [
    {
     "data": {
      "text/html": [
       "<div>\n",
       "<style scoped>\n",
       "    .dataframe tbody tr th:only-of-type {\n",
       "        vertical-align: middle;\n",
       "    }\n",
       "\n",
       "    .dataframe tbody tr th {\n",
       "        vertical-align: top;\n",
       "    }\n",
       "\n",
       "    .dataframe thead th {\n",
       "        text-align: right;\n",
       "    }\n",
       "</style>\n",
       "<table border=\"1\" class=\"dataframe\">\n",
       "  <thead>\n",
       "    <tr style=\"text-align: right;\">\n",
       "      <th></th>\n",
       "      <th>id</th>\n",
       "      <th>name</th>\n",
       "      <th>avg_hse_price</th>\n",
       "    </tr>\n",
       "  </thead>\n",
       "  <tbody>\n",
       "    <tr>\n",
       "      <th>3</th>\n",
       "      <td>E09000004</td>\n",
       "      <td>BEXLEY</td>\n",
       "      <td>330066.0</td>\n",
       "    </tr>\n",
       "    <tr>\n",
       "      <th>5</th>\n",
       "      <td>E09000006</td>\n",
       "      <td>BROMLEY</td>\n",
       "      <td>436538.0</td>\n",
       "    </tr>\n",
       "    <tr>\n",
       "      <th>7</th>\n",
       "      <td>E09000008</td>\n",
       "      <td>CROYDON</td>\n",
       "      <td>363241.0</td>\n",
       "    </tr>\n",
       "    <tr>\n",
       "      <th>20</th>\n",
       "      <td>E09000021</td>\n",
       "      <td>KINGSTON UPON THAMES</td>\n",
       "      <td>487327.0</td>\n",
       "    </tr>\n",
       "    <tr>\n",
       "      <th>22</th>\n",
       "      <td>E09000023</td>\n",
       "      <td>LEWISHAM</td>\n",
       "      <td>401025.0</td>\n",
       "    </tr>\n",
       "    <tr>\n",
       "      <th>28</th>\n",
       "      <td>E09000029</td>\n",
       "      <td>SUTTON</td>\n",
       "      <td>365567.0</td>\n",
       "    </tr>\n",
       "  </tbody>\n",
       "</table>\n",
       "</div>"
      ],
      "text/plain": [
       "           id                  name  avg_hse_price\n",
       "3   E09000004                BEXLEY       330066.0\n",
       "5   E09000006               BROMLEY       436538.0\n",
       "7   E09000008               CROYDON       363241.0\n",
       "20  E09000021  KINGSTON UPON THAMES       487327.0\n",
       "22  E09000023              LEWISHAM       401025.0\n",
       "28  E09000029                SUTTON       365567.0"
      ]
     },
     "execution_count": 24,
     "metadata": {},
     "output_type": "execute_result"
    }
   ],
   "source": [
    "b = a == False\n",
    "ldn_hse_price.loc[b]"
   ]
  },
  {
   "cell_type": "markdown",
   "id": "019dc083-c3f7-4e57-91e6-01e66e8b479b",
   "metadata": {},
   "source": [
    "These false values correspond to areas that do not have any underground stations. Hence they should be omitted."
   ]
  },
  {
   "cell_type": "code",
   "execution_count": 25,
   "id": "94f38fa1-887c-4ced-b1d0-436bf517b0ef",
   "metadata": {},
   "outputs": [],
   "source": [
    "ldn_hse_price = ldn_hse_price.loc[a]\n",
    "ldn_hse_price.reset_index(inplace = True)"
   ]
  },
  {
   "cell_type": "code",
   "execution_count": 26,
   "id": "2b89278f-e93f-42b7-8024-1e5788d247e9",
   "metadata": {},
   "outputs": [
    {
     "data": {
      "text/plain": [
       "True    27\n",
       "Name: name, dtype: int64"
      ]
     },
     "execution_count": 26,
     "metadata": {},
     "output_type": "execute_result"
    }
   ],
   "source": [
    "ldn_hse_price['name'].isin(ldn_bor['area_name']).value_counts()"
   ]
  },
  {
   "cell_type": "code",
   "execution_count": 27,
   "id": "72a1b38d-11e1-4dd4-af98-347c88eb0738",
   "metadata": {},
   "outputs": [
    {
     "name": "stdout",
     "output_type": "stream",
     "text": [
      "True     253\n",
      "False     15\n",
      "Name: area_name, dtype: int64\n"
     ]
    }
   ],
   "source": [
    "c = ldn_bor['area_name'].isin(ldn_hse_price['name'])\n",
    "print(c.value_counts())\n",
    "#ldn_bor['area_name'].unique()"
   ]
  },
  {
   "cell_type": "code",
   "execution_count": 28,
   "id": "5430f1cc-f955-4513-b734-7732001afa4a",
   "metadata": {},
   "outputs": [
    {
     "data": {
      "text/html": [
       "<div>\n",
       "<style scoped>\n",
       "    .dataframe tbody tr th:only-of-type {\n",
       "        vertical-align: middle;\n",
       "    }\n",
       "\n",
       "    .dataframe tbody tr th {\n",
       "        vertical-align: top;\n",
       "    }\n",
       "\n",
       "    .dataframe thead th {\n",
       "        text-align: right;\n",
       "    }\n",
       "</style>\n",
       "<table border=\"1\" class=\"dataframe\">\n",
       "  <thead>\n",
       "    <tr style=\"text-align: right;\">\n",
       "      <th></th>\n",
       "      <th>id</th>\n",
       "      <th>station_name</th>\n",
       "      <th>area_name</th>\n",
       "    </tr>\n",
       "  </thead>\n",
       "  <tbody>\n",
       "    <tr>\n",
       "      <th>64</th>\n",
       "      <td>65</td>\n",
       "      <td>RODING VALLEY</td>\n",
       "      <td>EPPING FOREST</td>\n",
       "    </tr>\n",
       "    <tr>\n",
       "      <th>65</th>\n",
       "      <td>66</td>\n",
       "      <td>CHIGWELL</td>\n",
       "      <td>EPPING FOREST</td>\n",
       "    </tr>\n",
       "    <tr>\n",
       "      <th>117</th>\n",
       "      <td>120</td>\n",
       "      <td>BUCKHURST HILL</td>\n",
       "      <td>EPPING FOREST</td>\n",
       "    </tr>\n",
       "    <tr>\n",
       "      <th>118</th>\n",
       "      <td>121</td>\n",
       "      <td>LOUGHTON</td>\n",
       "      <td>EPPING FOREST</td>\n",
       "    </tr>\n",
       "    <tr>\n",
       "      <th>121</th>\n",
       "      <td>124</td>\n",
       "      <td>DEBDEN</td>\n",
       "      <td>EPPING FOREST</td>\n",
       "    </tr>\n",
       "    <tr>\n",
       "      <th>122</th>\n",
       "      <td>125</td>\n",
       "      <td>THEYDON BOIS</td>\n",
       "      <td>EPPING FOREST</td>\n",
       "    </tr>\n",
       "    <tr>\n",
       "      <th>123</th>\n",
       "      <td>126</td>\n",
       "      <td>EPPING</td>\n",
       "      <td>EPPING FOREST</td>\n",
       "    </tr>\n",
       "    <tr>\n",
       "      <th>216</th>\n",
       "      <td>284</td>\n",
       "      <td>AMERSHAM</td>\n",
       "      <td>CHILTERN</td>\n",
       "    </tr>\n",
       "    <tr>\n",
       "      <th>252</th>\n",
       "      <td>320</td>\n",
       "      <td>CHALFONT &amp; LATIMER</td>\n",
       "      <td>CHILTERN</td>\n",
       "    </tr>\n",
       "    <tr>\n",
       "      <th>253</th>\n",
       "      <td>321</td>\n",
       "      <td>CHORLEYWOOD</td>\n",
       "      <td>THREE RIVERS</td>\n",
       "    </tr>\n",
       "    <tr>\n",
       "      <th>254</th>\n",
       "      <td>322</td>\n",
       "      <td>CHESHAM</td>\n",
       "      <td>CHILTERN</td>\n",
       "    </tr>\n",
       "    <tr>\n",
       "      <th>255</th>\n",
       "      <td>323</td>\n",
       "      <td>RICKMANSWORTH</td>\n",
       "      <td>THREE RIVERS</td>\n",
       "    </tr>\n",
       "    <tr>\n",
       "      <th>256</th>\n",
       "      <td>324</td>\n",
       "      <td>MOOR PARK</td>\n",
       "      <td>THREE RIVERS</td>\n",
       "    </tr>\n",
       "    <tr>\n",
       "      <th>258</th>\n",
       "      <td>326</td>\n",
       "      <td>CROXLEY</td>\n",
       "      <td>THREE RIVERS</td>\n",
       "    </tr>\n",
       "    <tr>\n",
       "      <th>259</th>\n",
       "      <td>327</td>\n",
       "      <td>WATFORD</td>\n",
       "      <td>WATFORD</td>\n",
       "    </tr>\n",
       "  </tbody>\n",
       "</table>\n",
       "</div>"
      ],
      "text/plain": [
       "      id        station_name      area_name\n",
       "64    65       RODING VALLEY  EPPING FOREST\n",
       "65    66            CHIGWELL  EPPING FOREST\n",
       "117  120      BUCKHURST HILL  EPPING FOREST\n",
       "118  121            LOUGHTON  EPPING FOREST\n",
       "121  124              DEBDEN  EPPING FOREST\n",
       "122  125        THEYDON BOIS  EPPING FOREST\n",
       "123  126              EPPING  EPPING FOREST\n",
       "216  284            AMERSHAM       CHILTERN\n",
       "252  320  CHALFONT & LATIMER       CHILTERN\n",
       "253  321         CHORLEYWOOD   THREE RIVERS\n",
       "254  322             CHESHAM       CHILTERN\n",
       "255  323       RICKMANSWORTH   THREE RIVERS\n",
       "256  324           MOOR PARK   THREE RIVERS\n",
       "258  326             CROXLEY   THREE RIVERS\n",
       "259  327             WATFORD        WATFORD"
      ]
     },
     "execution_count": 28,
     "metadata": {},
     "output_type": "execute_result"
    }
   ],
   "source": [
    "d = c == False\n",
    "ldn_bor.loc[d]"
   ]
  },
  {
   "cell_type": "code",
   "execution_count": 29,
   "id": "994de071-8479-4c86-8d5f-1487ca734937",
   "metadata": {},
   "outputs": [],
   "source": [
    "ldn_bor = ldn_bor.loc[c]\n",
    "ldn_bor.reset_index(inplace = True)"
   ]
  },
  {
   "cell_type": "code",
   "execution_count": 30,
   "id": "c112908d-a6bd-4beb-aee7-86cc19db92ff",
   "metadata": {},
   "outputs": [
    {
     "data": {
      "text/plain": [
       "True    253\n",
       "Name: area_name, dtype: int64"
      ]
     },
     "execution_count": 30,
     "metadata": {},
     "output_type": "execute_result"
    }
   ],
   "source": [
    "ldn_bor['area_name'].isin(ldn_hse_price['name']).value_counts()"
   ]
  },
  {
   "cell_type": "code",
   "execution_count": 31,
   "id": "32ea6b0d-9f77-4270-85af-1c92986bc1cb",
   "metadata": {},
   "outputs": [
    {
     "data": {
      "text/html": [
       "<div>\n",
       "<style scoped>\n",
       "    .dataframe tbody tr th:only-of-type {\n",
       "        vertical-align: middle;\n",
       "    }\n",
       "\n",
       "    .dataframe tbody tr th {\n",
       "        vertical-align: top;\n",
       "    }\n",
       "\n",
       "    .dataframe thead th {\n",
       "        text-align: right;\n",
       "    }\n",
       "</style>\n",
       "<table border=\"1\" class=\"dataframe\">\n",
       "  <thead>\n",
       "    <tr style=\"text-align: right;\">\n",
       "      <th></th>\n",
       "      <th>id</th>\n",
       "      <th>station_name</th>\n",
       "      <th>frequency(mill)</th>\n",
       "    </tr>\n",
       "  </thead>\n",
       "  <tbody>\n",
       "    <tr>\n",
       "      <th>0</th>\n",
       "      <td>1</td>\n",
       "      <td>BRENT CROSS</td>\n",
       "      <td>304.63</td>\n",
       "    </tr>\n",
       "    <tr>\n",
       "      <th>1</th>\n",
       "      <td>2</td>\n",
       "      <td>COLINDALE</td>\n",
       "      <td>849.48</td>\n",
       "    </tr>\n",
       "    <tr>\n",
       "      <th>2</th>\n",
       "      <td>3</td>\n",
       "      <td>BURNT OAK</td>\n",
       "      <td>528.80</td>\n",
       "    </tr>\n",
       "    <tr>\n",
       "      <th>3</th>\n",
       "      <td>4</td>\n",
       "      <td>EDGWARE</td>\n",
       "      <td>628.82</td>\n",
       "    </tr>\n",
       "    <tr>\n",
       "      <th>4</th>\n",
       "      <td>5</td>\n",
       "      <td>MILL HILL EAST</td>\n",
       "      <td>158.18</td>\n",
       "    </tr>\n",
       "    <tr>\n",
       "      <th>...</th>\n",
       "      <td>...</td>\n",
       "      <td>...</td>\n",
       "      <td>...</td>\n",
       "    </tr>\n",
       "    <tr>\n",
       "      <th>263</th>\n",
       "      <td>331</td>\n",
       "      <td>ANGEL</td>\n",
       "      <td>2304.94</td>\n",
       "    </tr>\n",
       "    <tr>\n",
       "      <th>264</th>\n",
       "      <td>332</td>\n",
       "      <td>HENDON CENTRAL</td>\n",
       "      <td>900.52</td>\n",
       "    </tr>\n",
       "    <tr>\n",
       "      <th>265</th>\n",
       "      <td>333</td>\n",
       "      <td>WIMBLEDON</td>\n",
       "      <td>1574.78</td>\n",
       "    </tr>\n",
       "    <tr>\n",
       "      <th>266</th>\n",
       "      <td>334</td>\n",
       "      <td>WOOD LANE</td>\n",
       "      <td>470.25</td>\n",
       "    </tr>\n",
       "    <tr>\n",
       "      <th>267</th>\n",
       "      <td>335</td>\n",
       "      <td>HEATHROW TERMINAL 5</td>\n",
       "      <td>614.41</td>\n",
       "    </tr>\n",
       "  </tbody>\n",
       "</table>\n",
       "<p>268 rows × 3 columns</p>\n",
       "</div>"
      ],
      "text/plain": [
       "      id         station_name  frequency(mill)\n",
       "0      1          BRENT CROSS           304.63\n",
       "1      2            COLINDALE           849.48\n",
       "2      3            BURNT OAK           528.80\n",
       "3      4              EDGWARE           628.82\n",
       "4      5       MILL HILL EAST           158.18\n",
       "..   ...                  ...              ...\n",
       "263  331                ANGEL          2304.94\n",
       "264  332       HENDON CENTRAL           900.52\n",
       "265  333            WIMBLEDON          1574.78\n",
       "266  334            WOOD LANE           470.25\n",
       "267  335  HEATHROW TERMINAL 5           614.41\n",
       "\n",
       "[268 rows x 3 columns]"
      ]
     },
     "execution_count": 31,
     "metadata": {},
     "output_type": "execute_result"
    }
   ],
   "source": [
    "ldn_sta_freq"
   ]
  },
  {
   "cell_type": "markdown",
   "id": "f38adea2-98ee-4455-924a-948211d75ab0",
   "metadata": {
    "tags": []
   },
   "source": [
    "The total number of underground stations in 2017 with reference to public record was 270 which is consistent with the stations in the ldn_bor dataframe."
   ]
  },
  {
   "cell_type": "code",
   "execution_count": 32,
   "id": "1fa09d94-f80e-4695-8c11-20bf482031b5",
   "metadata": {},
   "outputs": [
    {
     "data": {
      "text/html": [
       "<div>\n",
       "<style scoped>\n",
       "    .dataframe tbody tr th:only-of-type {\n",
       "        vertical-align: middle;\n",
       "    }\n",
       "\n",
       "    .dataframe tbody tr th {\n",
       "        vertical-align: top;\n",
       "    }\n",
       "\n",
       "    .dataframe thead th {\n",
       "        text-align: right;\n",
       "    }\n",
       "</style>\n",
       "<table border=\"1\" class=\"dataframe\">\n",
       "  <thead>\n",
       "    <tr style=\"text-align: right;\">\n",
       "      <th></th>\n",
       "      <th>index</th>\n",
       "      <th>id</th>\n",
       "      <th>station_name</th>\n",
       "      <th>area_name</th>\n",
       "    </tr>\n",
       "  </thead>\n",
       "  <tbody>\n",
       "  </tbody>\n",
       "</table>\n",
       "</div>"
      ],
      "text/plain": [
       "Empty DataFrame\n",
       "Columns: [index, id, station_name, area_name]\n",
       "Index: []"
      ]
     },
     "execution_count": 32,
     "metadata": {},
     "output_type": "execute_result"
    }
   ],
   "source": [
    "# Station Name Finder \n",
    "ldn_bor.loc[ldn_bor['station_name'] == 'Brent Cross']"
   ]
  }
 ],
 "metadata": {
  "kernelspec": {
   "display_name": "Python 3",
   "language": "python",
   "name": "python3"
  },
  "language_info": {
   "codemirror_mode": {
    "name": "ipython",
    "version": 3
   },
   "file_extension": ".py",
   "mimetype": "text/x-python",
   "name": "python",
   "nbconvert_exporter": "python",
   "pygments_lexer": "ipython3",
   "version": "3.8.8"
  }
 },
 "nbformat": 4,
 "nbformat_minor": 5
}
