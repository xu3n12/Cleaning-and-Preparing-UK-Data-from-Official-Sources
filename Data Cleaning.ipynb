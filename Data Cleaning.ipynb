{
 "cells": [
  {
   "cell_type": "markdown",
   "id": "0d9579c7-5613-48ad-a089-314c8c652f9d",
   "metadata": {},
   "source": [
    "# The More The Merrier (Data Cleaning)"
   ]
  },
  {
   "cell_type": "markdown",
   "id": "3804c845-64ca-448b-b9c0-11f2e88cf730",
   "metadata": {},
   "source": [
    "**Description:** This notebook is dedicated to the preprocessing and cleaning of raw data stored in *csv* files using the \n",
    "*Pandas* library, specifically focusing on three key datasets for this project.\n",
    "\n",
    "- **Data:** Datasets to clean:\n",
    "  - `2017_Entry_Exit.csv`\n",
    "  - `2017_Average_Housing_Prices_in_London.csv`\n",
    "  - ` LondonUnderground_Stations_Boroughs.csv `\n"
   ]
  },
  {
   "cell_type": "code",
   "execution_count": 1,
   "id": "2c52741e-4607-4fce-a7ae-c006b87b2cab",
   "metadata": {},
   "outputs": [],
   "source": [
    "# importing the necessary libraries\n",
    "import pandas as pd\n",
    "import numpy as np"
   ]
  },
  {
   "cell_type": "code",
   "execution_count": 2,
   "id": "9f32dee4-5f52-40b5-a87d-13776b4c2fd2",
   "metadata": {},
   "outputs": [],
   "source": [
    "def load_data(filepath):\n",
    "    '''\n",
    "    This function loads raw data from a csv file into a pandas dataframe and sets the primary key as the index column\n",
    "    Args:\n",
    "        filepath: the raw data's filepath in csv format\n",
    "    Return:\n",
    "        The loaded raw data into the pandas dataframe ready to be preprocessed\n",
    "    '''\n",
    "    df = pd.read_csv(filepath)\n",
    "    return df "
   ]
  },
  {
   "cell_type": "markdown",
   "id": "b5b5d097-853c-4c0b-91cb-6dec9e986447",
   "metadata": {},
   "source": [
    "### Data Wrangling \n",
    "**Description:** After loading the raw data into a dataframe with the function 'load_data', the next step is to wrangle the data. This process involves selecting the relevant columns for analysis, simplifying the column names and adjusting their data types. This process is done using a created class of objects that carries out the aforementioned tasks individually to a dataframe. The resulting dataframes are then ready to be cleaned."
   ]
  },
  {
   "cell_type": "code",
   "execution_count": 3,
   "id": "df1d233e-3c2a-41ab-b60d-26567bff075e",
   "metadata": {},
   "outputs": [],
   "source": [
    "class data_wrangler:\n",
    "    '''\n",
    "    This class does the necessary data wrangling such as selecting the relevant columns, setting each column's data type\n",
    "    and renaming the columns.\n",
    "    '''\n",
    "    def __init__(self, df):\n",
    "        self.df = df\n",
    "    \n",
    "    def get_data(self):\n",
    "        return self.df\n",
    "    \n",
    "    def select_cols(self,cols):\n",
    "        self.df = self.df[cols]\n",
    "        cleaned_data = data_wrangler(df)\n",
    "        return self.df\n",
    "\n",
    "    def adjust_col_dtypes(self,col_dtypes):\n",
    "        self.df = self.df.astype(col_dtypes)\n",
    "        cleaned_data = data_wrangler(self.df)\n",
    "        return self.df\n",
    "    \n",
    "    def rename_cols(self,rename):\n",
    "        self.df.columns = rename\n",
    "        cleaned_data = data_wrangler(self.df)\n",
    "        return self.df\n",
    "    "
   ]
  },
  {
   "cell_type": "code",
   "execution_count": 4,
   "id": "df2f4286-3cf0-47b6-b003-5af89cd7d938",
   "metadata": {},
   "outputs": [],
   "source": [
    "raw_df = load_data(r'C:\\Users\\pjxph\\Documents\\Data Science Projects\\The More The Merrier\\raw data\\2017_Entry_Exit.csv')\n",
    "# list of all london stations with it's each respective frequency of touch ins and touch outs."
   ]
  },
  {
   "cell_type": "code",
   "execution_count": 5,
   "id": "cf8f47c4-6e6f-4c19-a8aa-49fb6daf124f",
   "metadata": {},
   "outputs": [],
   "source": [
    "df = data_wrangler(raw_df)\n",
    "df = df.select_cols(['Station_ID','Station_Name','AnnualEntryExit_Mill'])\n",
    "df = data_wrangler(df)\n",
    "df = df.rename_cols(['id','station_name','frequency(mill)'])\n",
    "df = data_wrangler(df)\n",
    "df = df.adjust_col_dtypes({\n",
    "    'id' : int,\n",
    "    'station_name' : str,\n",
    "    'frequency(mill)' : np.float64\n",
    "})\n",
    "ldn_sta_freq = df"
   ]
  },
  {
   "cell_type": "code",
   "execution_count": 6,
   "id": "609cd621-fad1-4411-b9e9-b21b8e5d9a0b",
   "metadata": {},
   "outputs": [],
   "source": [
    "# 2017_Average_hse_price\n",
    "raw_df = load_data(r'C:\\Users\\pjxph\\Documents/Data Science Projects/The More The Merrier/raw data/2017_Average_Housing_Prices_in_London.csv')"
   ]
  },
  {
   "cell_type": "code",
   "execution_count": 7,
   "id": "203a5ea5-7318-4944-99ca-23cced2068e1",
   "metadata": {
    "tags": []
   },
   "outputs": [],
   "source": [
    "df = data_wrangler(raw_df)\n",
    "df = df.select_cols(['Area_ID','Area_Name','average_hse_price'])\n",
    "df = data_wrangler(df)\n",
    "df = df.rename_cols(['id','name','avg_hse_price'])\n",
    "df = data_wrangler(df)\n",
    "df = df.adjust_col_dtypes({\n",
    "    'id' : str,\n",
    "    'name' : str,\n",
    "    'avg_hse_price' : np.float64\n",
    "})\n",
    "ldn_hse_price = df "
   ]
  },
  {
   "cell_type": "code",
   "execution_count": 8,
   "id": "d3fc7c24-1e76-48e9-92ea-dce13cf1ea8f",
   "metadata": {},
   "outputs": [],
   "source": [
    "raw_df = load_data(r'C:\\Users\\pjxph\\Documents/Data Science Projects/The More The Merrier/raw data/LondonUnderground_Stations_Boroughs.csv')"
   ]
  },
  {
   "cell_type": "code",
   "execution_count": 9,
   "id": "d3cbeedf-d5e1-4a05-8ab7-4fd3fa6ab5bc",
   "metadata": {},
   "outputs": [
    {
     "data": {
      "text/html": [
       "<div>\n",
       "<style scoped>\n",
       "    .dataframe tbody tr th:only-of-type {\n",
       "        vertical-align: middle;\n",
       "    }\n",
       "\n",
       "    .dataframe tbody tr th {\n",
       "        vertical-align: top;\n",
       "    }\n",
       "\n",
       "    .dataframe thead th {\n",
       "        text-align: right;\n",
       "    }\n",
       "</style>\n",
       "<table border=\"1\" class=\"dataframe\">\n",
       "  <thead>\n",
       "    <tr style=\"text-align: right;\">\n",
       "      <th></th>\n",
       "      <th>OBJECTID</th>\n",
       "      <th>NAME</th>\n",
       "      <th>NETWORK</th>\n",
       "      <th>Zone</th>\n",
       "      <th>area</th>\n",
       "      <th>Unnamed: 5</th>\n",
       "      <th>Unnamed: 6</th>\n",
       "    </tr>\n",
       "  </thead>\n",
       "  <tbody>\n",
       "    <tr>\n",
       "      <th>0</th>\n",
       "      <td>1</td>\n",
       "      <td>Brent Cross</td>\n",
       "      <td>London Underground</td>\n",
       "      <td>3</td>\n",
       "      <td>Barnet</td>\n",
       "      <td>NaN</td>\n",
       "      <td>London Underground</td>\n",
       "    </tr>\n",
       "    <tr>\n",
       "      <th>1</th>\n",
       "      <td>2</td>\n",
       "      <td>Colindale</td>\n",
       "      <td>London Underground</td>\n",
       "      <td>4</td>\n",
       "      <td>Barnet</td>\n",
       "      <td>NaN</td>\n",
       "      <td>London Underground</td>\n",
       "    </tr>\n",
       "    <tr>\n",
       "      <th>2</th>\n",
       "      <td>3</td>\n",
       "      <td>Burnt Oak</td>\n",
       "      <td>London Underground</td>\n",
       "      <td>4</td>\n",
       "      <td>Barnet</td>\n",
       "      <td>NaN</td>\n",
       "      <td>London Underground</td>\n",
       "    </tr>\n",
       "    <tr>\n",
       "      <th>3</th>\n",
       "      <td>4</td>\n",
       "      <td>Edgware</td>\n",
       "      <td>London Underground</td>\n",
       "      <td>5</td>\n",
       "      <td>Barnet</td>\n",
       "      <td>NaN</td>\n",
       "      <td>London Underground</td>\n",
       "    </tr>\n",
       "    <tr>\n",
       "      <th>4</th>\n",
       "      <td>5</td>\n",
       "      <td>Mill Hill East</td>\n",
       "      <td>London Underground</td>\n",
       "      <td>4</td>\n",
       "      <td>Barnet</td>\n",
       "      <td>NaN</td>\n",
       "      <td>London Underground</td>\n",
       "    </tr>\n",
       "  </tbody>\n",
       "</table>\n",
       "</div>"
      ],
      "text/plain": [
       "   OBJECTID            NAME             NETWORK  Zone    area  Unnamed: 5  \\\n",
       "0         1     Brent Cross  London Underground     3  Barnet         NaN   \n",
       "1         2       Colindale  London Underground     4  Barnet         NaN   \n",
       "2         3       Burnt Oak  London Underground     4  Barnet         NaN   \n",
       "3         4         Edgware  London Underground     5  Barnet         NaN   \n",
       "4         5  Mill Hill East  London Underground     4  Barnet         NaN   \n",
       "\n",
       "           Unnamed: 6  \n",
       "0  London Underground  \n",
       "1  London Underground  \n",
       "2  London Underground  \n",
       "3  London Underground  \n",
       "4  London Underground  "
      ]
     },
     "execution_count": 9,
     "metadata": {},
     "output_type": "execute_result"
    }
   ],
   "source": [
    "raw_df.head()"
   ]
  },
  {
   "cell_type": "code",
   "execution_count": 10,
   "id": "dab551d9-8caf-4e34-bb4f-31a2f371a4e5",
   "metadata": {},
   "outputs": [],
   "source": [
    "df = data_wrangler(raw_df)\n",
    "df = df.select_cols(['OBJECTID','NAME','area'])\n",
    "df = data_wrangler(df)\n",
    "df = df.rename_cols(['id','station_name','area_name'])\n",
    "df = data_wrangler(df)\n",
    "df = df.adjust_col_dtypes({\n",
    "    'id' : np.int64,\n",
    "    'station_name' : str,\n",
    "    'area_name' : str\n",
    "})\n",
    "ldn_bor = df "
   ]
  },
  {
   "cell_type": "code",
   "execution_count": 11,
   "id": "ab1f3ec1-c2bc-479e-a8de-8ec81c479dc0",
   "metadata": {},
   "outputs": [],
   "source": [
    "# ldn_sta_freq\n",
    "#ldn_hse_price\n",
    "# ldn_bor"
   ]
  },
  {
   "cell_type": "markdown",
   "id": "29d7c71c-a531-4d0f-bdf2-f4ea7c34e9e4",
   "metadata": {},
   "source": [
    "#### The three **wrangled** dataframes are:\n",
    "* `ldn_sta_freq`\n",
    "* `ldn_hse_price`\n",
    "* `ldn_bor`\n",
    "\n",
    "Time to clean!"
   ]
  },
  {
   "cell_type": "markdown",
   "id": "1387a476-7629-4637-8101-465ccda9e13c",
   "metadata": {},
   "source": [
    "### Data Cleaning\n",
    "**Description:** After the data wrangling process, the wrangled data needs to be cleaned. The following processes were carried out:\n",
    "- Ensure the consistency of the station name column in ldn_sta_freq and ldn_bor. \n",
    "  - The total number of stations should be the same.\n",
    "  - Station names should be consistent\n",
    "\n",
    "- Ensure the consistency of the area_name column in ldn_hse_price and ldn_bor.\n",
    "  - The total number of london boroughs should be the same.\n",
    "  - Borough names should be consistent.\n",
    "- Ensure that each area name is consistent in ldn_bor"
   ]
  },
  {
   "cell_type": "code",
   "execution_count": 12,
   "id": "bf4a39ec-2f90-4088-b6ef-c326f31da47c",
   "metadata": {},
   "outputs": [],
   "source": [
    "# Initial Cleaning Process\n",
    "class data_cleaner:\n",
    "    '''\n",
    "    This class does the necessary data cleaning such as removing duplicates and NaN values for the chosen column.\n",
    "    '''\n",
    "    def __init__(self, df):\n",
    "        self.df = df\n",
    "        \n",
    "    def drop_dups(self,columns):\n",
    "        self.df = ((self.df).drop_duplicates(subset = columns, ignore_index = True))\n",
    "        return self.df \n",
    "    \n",
    "    def drop_na(self):\n",
    "        self.df = self.df.dropna()\n",
    "        return self.df"
   ]
  },
  {
   "cell_type": "markdown",
   "id": "f0801b75-69a1-4060-a8f9-94fbf82886cb",
   "metadata": {},
   "source": [
    "Firstly, the total number of objects in each dataframe such as london station and boroughs were checked against public records.\n",
    "\n",
    "The total number of London Underground stations and Boroughs in 2017 were 270 and 32 excluding City Of London respectively."
   ]
  },
  {
   "cell_type": "code",
   "execution_count": 13,
   "id": "b73cd63f-db20-451d-a0b6-f4a450762e38",
   "metadata": {},
   "outputs": [
    {
     "name": "stdout",
     "output_type": "stream",
     "text": [
      "268\n",
      "34\n",
      "270\n"
     ]
    }
   ],
   "source": [
    "# raw_data \n",
    "print(len(ldn_sta_freq.index))\n",
    "print(len(ldn_hse_price.index))\n",
    "print(len(ldn_bor.index))"
   ]
  },
  {
   "cell_type": "code",
   "execution_count": 14,
   "id": "47b6b187-22c1-4129-8f20-43b55dee619b",
   "metadata": {},
   "outputs": [
    {
     "data": {
      "text/plain": [
       "Index(['id', 'station_name', 'frequency(mill)'], dtype='object')"
      ]
     },
     "execution_count": 14,
     "metadata": {},
     "output_type": "execute_result"
    }
   ],
   "source": [
    "# To decide which columns to remove duplicates \n",
    "ldn_sta_freq.columns"
   ]
  },
  {
   "cell_type": "code",
   "execution_count": 15,
   "id": "766e6d01-7b5c-4077-bf7d-111908318e7f",
   "metadata": {},
   "outputs": [
    {
     "name": "stdout",
     "output_type": "stream",
     "text": [
      "268\n"
     ]
    }
   ],
   "source": [
    "# Partially cleaned ldn_sta_freq\n",
    "df = data_cleaner(ldn_sta_freq)\n",
    "df = df.drop_na()\n",
    "df = data_cleaner(df)\n",
    "df = df.drop_dups(['station_name'])\n",
    "df['station_name'] = df['station_name'].str.upper()\n",
    "ldn_sta_freq = df\n",
    "print(len(ldn_sta_freq.index))"
   ]
  },
  {
   "cell_type": "markdown",
   "id": "0ba219d2-6930-4fa6-a750-ab2592505e13",
   "metadata": {},
   "source": [
    "After the initial cleaning process, the total number of underground stations in the ldn_sta_freq dataframe was 268 which is inconsistent with public records. The total number of underground stations in 2017 was 270. The records of the missing stations must be discovered and imported accordingly.ent"
   ]
  },
  {
   "cell_type": "code",
   "execution_count": 16,
   "id": "fd435067-872a-4b2d-9420-949cc366361b",
   "metadata": {},
   "outputs": [
    {
     "data": {
      "text/plain": [
       "Index(['id', 'name', 'avg_hse_price'], dtype='object')"
      ]
     },
     "execution_count": 16,
     "metadata": {},
     "output_type": "execute_result"
    }
   ],
   "source": [
    "# To decide which columns to remove duplicates \n",
    "ldn_hse_price.columns"
   ]
  },
  {
   "cell_type": "code",
   "execution_count": 17,
   "id": "95d2ae39-5251-4fee-a3b4-f2f61cd7f216",
   "metadata": {},
   "outputs": [
    {
     "name": "stdout",
     "output_type": "stream",
     "text": [
      "33\n"
     ]
    }
   ],
   "source": [
    "# Partially cleaned ldn_hse_price\n",
    "df = data_cleaner(ldn_hse_price)\n",
    "df = df.drop_na()\n",
    "df = data_cleaner(df)\n",
    "df = df.drop_dups(['id','name'])\n",
    "df['name'] = df['name'].str.upper()\n",
    "ldn_hse_price = df\n",
    "print(len(ldn_hse_price.index))"
   ]
  },
  {
   "cell_type": "markdown",
   "id": "f26fad7d-7dec-4a4b-9e3b-ab80e77f5903",
   "metadata": {},
   "source": [
    "After the initial cleaning process, the total number of London boroughs in the ldn_hse_price dataframe was 33 which is consistent with public records. In 2017, the total number of London borough councils was 32 + City Of London."
   ]
  },
  {
   "cell_type": "code",
   "execution_count": 18,
   "id": "902ceb4f-0dcb-496a-a299-fde40f562eb6",
   "metadata": {},
   "outputs": [
    {
     "data": {
      "text/plain": [
       "Index(['id', 'station_name', 'area_name'], dtype='object')"
      ]
     },
     "execution_count": 18,
     "metadata": {},
     "output_type": "execute_result"
    }
   ],
   "source": [
    "# To decide which columns to remove duplicates \n",
    "ldn_bor.columns"
   ]
  },
  {
   "cell_type": "code",
   "execution_count": 19,
   "id": "5132cbd4-cdf5-4a36-88e3-1231046b9fdd",
   "metadata": {},
   "outputs": [
    {
     "name": "stdout",
     "output_type": "stream",
     "text": [
      "268\n"
     ]
    }
   ],
   "source": [
    "### Partially cleaned ldn_bor\n",
    "df = data_cleaner(ldn_bor)\n",
    "df = df.drop_dups(['station_name'])\n",
    "df = data_cleaner(df)\n",
    "df = df.drop_na()\n",
    "df['station_name'] = df['station_name'].str.upper()\n",
    "df['area_name'] = df['area_name'].str.upper()\n",
    "ldn_bor = df\n",
    "print(len(ldn_bor.index))\n",
    "#print(len(ldn_bor['station_name'].unique()))"
   ]
  },
  {
   "cell_type": "markdown",
   "id": "957f788e-c73c-4f99-a786-8886f6425d3b",
   "metadata": {},
   "source": [
    "After the initial cleaning process, the total number of London borough in the ldn_bor dataframe was 268 which is consistent with the ldn_hse_price dataframe but inconsistent with public records."
   ]
  },
  {
   "cell_type": "code",
   "execution_count": 20,
   "id": "4b3e7178-c5d5-4ca1-b1dc-ce62dece7605",
   "metadata": {},
   "outputs": [
    {
     "data": {
      "text/plain": [
       "True    268\n",
       "Name: station_name, dtype: int64"
      ]
     },
     "execution_count": 20,
     "metadata": {},
     "output_type": "execute_result"
    }
   ],
   "source": [
    "# Test if all station names in ldn_bor dataframe are in ldn_sta_freq dataframe\n",
    "ldn_bor['station_name'].isin(ldn_sta_freq['station_name']).value_counts()"
   ]
  },
  {
   "cell_type": "markdown",
   "id": "bd8d4faa-5366-437f-af54-2d78bff672f9",
   "metadata": {},
   "source": [
    "The test above shows that all stations in **ldn_bor** dataframe are consistent with the dataframe in **ldn_sta_freq**."
   ]
  },
  {
   "cell_type": "markdown",
   "id": "55845984-d9c0-4e81-bfd1-458581308489",
   "metadata": {},
   "source": [
    "Next is to check if all areas in ldn_hse_price dataframe are in ldn_bor. "
   ]
  },
  {
   "cell_type": "code",
   "execution_count": 21,
   "id": "bd66dd73-9141-4ab7-a5ae-2967b11a8e4a",
   "metadata": {},
   "outputs": [
    {
     "name": "stdout",
     "output_type": "stream",
     "text": [
      "True     27\n",
      "False     6\n",
      "Name: name, dtype: int64\n"
     ]
    }
   ],
   "source": [
    "a = ldn_hse_price['name'].isin(ldn_bor['area_name'])\n",
    "print(a.value_counts())"
   ]
  },
  {
   "cell_type": "code",
   "execution_count": 22,
   "id": "3ac92aeb-fbef-4ad5-af92-064a681a3027",
   "metadata": {},
   "outputs": [
    {
     "data": {
      "text/html": [
       "<div>\n",
       "<style scoped>\n",
       "    .dataframe tbody tr th:only-of-type {\n",
       "        vertical-align: middle;\n",
       "    }\n",
       "\n",
       "    .dataframe tbody tr th {\n",
       "        vertical-align: top;\n",
       "    }\n",
       "\n",
       "    .dataframe thead th {\n",
       "        text-align: right;\n",
       "    }\n",
       "</style>\n",
       "<table border=\"1\" class=\"dataframe\">\n",
       "  <thead>\n",
       "    <tr style=\"text-align: right;\">\n",
       "      <th></th>\n",
       "      <th>id</th>\n",
       "      <th>name</th>\n",
       "      <th>avg_hse_price</th>\n",
       "    </tr>\n",
       "  </thead>\n",
       "  <tbody>\n",
       "    <tr>\n",
       "      <th>3</th>\n",
       "      <td>E09000004</td>\n",
       "      <td>BEXLEY</td>\n",
       "      <td>330066.0</td>\n",
       "    </tr>\n",
       "    <tr>\n",
       "      <th>5</th>\n",
       "      <td>E09000006</td>\n",
       "      <td>BROMLEY</td>\n",
       "      <td>436538.0</td>\n",
       "    </tr>\n",
       "    <tr>\n",
       "      <th>7</th>\n",
       "      <td>E09000008</td>\n",
       "      <td>CROYDON</td>\n",
       "      <td>363241.0</td>\n",
       "    </tr>\n",
       "    <tr>\n",
       "      <th>20</th>\n",
       "      <td>E09000021</td>\n",
       "      <td>KINGSTON UPON THAMES</td>\n",
       "      <td>487327.0</td>\n",
       "    </tr>\n",
       "    <tr>\n",
       "      <th>22</th>\n",
       "      <td>E09000023</td>\n",
       "      <td>LEWISHAM</td>\n",
       "      <td>401025.0</td>\n",
       "    </tr>\n",
       "    <tr>\n",
       "      <th>28</th>\n",
       "      <td>E09000029</td>\n",
       "      <td>SUTTON</td>\n",
       "      <td>365567.0</td>\n",
       "    </tr>\n",
       "  </tbody>\n",
       "</table>\n",
       "</div>"
      ],
      "text/plain": [
       "           id                  name  avg_hse_price\n",
       "3   E09000004                BEXLEY       330066.0\n",
       "5   E09000006               BROMLEY       436538.0\n",
       "7   E09000008               CROYDON       363241.0\n",
       "20  E09000021  KINGSTON UPON THAMES       487327.0\n",
       "22  E09000023              LEWISHAM       401025.0\n",
       "28  E09000029                SUTTON       365567.0"
      ]
     },
     "execution_count": 22,
     "metadata": {},
     "output_type": "execute_result"
    }
   ],
   "source": [
    "b = a == False\n",
    "ldn_hse_price.loc[b]"
   ]
  },
  {
   "cell_type": "markdown",
   "id": "019dc083-c3f7-4e57-91e6-01e66e8b479b",
   "metadata": {},
   "source": [
    "The test showed the above 6 areas in ldn_hse_price_dataframe that are not in ldn_bor. A hypotheses is that these 6 areas do not contain any London Underground Stations. "
   ]
  },
  {
   "cell_type": "markdown",
   "id": "e5f9c2b9-f1b1-4316-9edd-c9cdd02571c3",
   "metadata": {},
   "source": [
    "After checking against public records, the 6 areas above indeed do not contain any London underground stations. Hence, they can be omitted from the analysis. ldn_hse_price are left with 27 recorded areas."
   ]
  },
  {
   "cell_type": "code",
   "execution_count": 23,
   "id": "94f38fa1-887c-4ced-b1d0-436bf517b0ef",
   "metadata": {},
   "outputs": [],
   "source": [
    "ldn_hse_price = ldn_hse_price.loc[a]\n",
    "ldn_hse_price.reset_index(drop = True, inplace = True)"
   ]
  },
  {
   "cell_type": "code",
   "execution_count": 24,
   "id": "2b89278f-e93f-42b7-8024-1e5788d247e9",
   "metadata": {},
   "outputs": [
    {
     "data": {
      "text/plain": [
       "True    27\n",
       "Name: name, dtype: int64"
      ]
     },
     "execution_count": 24,
     "metadata": {},
     "output_type": "execute_result"
    }
   ],
   "source": [
    "ldn_hse_price['name'].isin(ldn_bor['area_name']).value_counts()"
   ]
  },
  {
   "cell_type": "code",
   "execution_count": 25,
   "id": "72a1b38d-11e1-4dd4-af98-347c88eb0738",
   "metadata": {},
   "outputs": [
    {
     "name": "stdout",
     "output_type": "stream",
     "text": [
      "True     253\n",
      "False     15\n",
      "Name: area_name, dtype: int64\n"
     ]
    }
   ],
   "source": [
    "c = ldn_bor['area_name'].isin(ldn_hse_price['name'])\n",
    "print(c.value_counts())\n",
    "#ldn_bor['area_name'].unique()"
   ]
  },
  {
   "cell_type": "code",
   "execution_count": 26,
   "id": "5430f1cc-f955-4513-b734-7732001afa4a",
   "metadata": {},
   "outputs": [],
   "source": [
    "d = c == False\n",
    "ldn_borx = ldn_bor.loc[d]"
   ]
  },
  {
   "cell_type": "markdown",
   "id": "874acad4-8042-4b74-bd37-c052771aa2de",
   "metadata": {},
   "source": [
    "The test above showed that these 15 stations and respective area in the ldn_bor dataframe that are not contained inside the ldn_bor dataframe. These areas correspond to district councils. They can be added to the ldn_hse_price dataframe with gov.uk house price index data. The dataframe name is changed from ldn_bor to ldn_council"
   ]
  },
  {
   "cell_type": "code",
   "execution_count": 27,
   "id": "7a5f9fb0-7566-4ac9-9d2b-02b8eb054652",
   "metadata": {},
   "outputs": [],
   "source": [
    "ldn_council = ldn_bor"
   ]
  },
  {
   "cell_type": "code",
   "execution_count": 28,
   "id": "1f33d6e8-362c-4b0c-91bb-88205c3dc54e",
   "metadata": {},
   "outputs": [],
   "source": [
    "raw_df = load_data(r'C:\\Users\\pjxph\\Documents\\Data Science Projects\\The More The Merrier\\raw data\\England-annual-price-change-by-local-authority-2017-12 (1).csv')"
   ]
  },
  {
   "cell_type": "code",
   "execution_count": 29,
   "id": "ef425851-6031-48d8-abbd-8efeb60b84b6",
   "metadata": {},
   "outputs": [
    {
     "data": {
      "text/html": [
       "<div>\n",
       "<style scoped>\n",
       "    .dataframe tbody tr th:only-of-type {\n",
       "        vertical-align: middle;\n",
       "    }\n",
       "\n",
       "    .dataframe tbody tr th {\n",
       "        vertical-align: top;\n",
       "    }\n",
       "\n",
       "    .dataframe thead th {\n",
       "        text-align: right;\n",
       "    }\n",
       "</style>\n",
       "<table border=\"1\" class=\"dataframe\">\n",
       "  <thead>\n",
       "    <tr style=\"text-align: right;\">\n",
       "      <th></th>\n",
       "      <th>name</th>\n",
       "      <th>avg_hse_price</th>\n",
       "    </tr>\n",
       "  </thead>\n",
       "  <tbody>\n",
       "    <tr>\n",
       "      <th>0</th>\n",
       "      <td>ADUR</td>\n",
       "      <td>306921.0</td>\n",
       "    </tr>\n",
       "    <tr>\n",
       "      <th>1</th>\n",
       "      <td>ALLERDALE</td>\n",
       "      <td>149657.0</td>\n",
       "    </tr>\n",
       "    <tr>\n",
       "      <th>2</th>\n",
       "      <td>AMBER VALLEY</td>\n",
       "      <td>170198.0</td>\n",
       "    </tr>\n",
       "    <tr>\n",
       "      <th>3</th>\n",
       "      <td>ARUN</td>\n",
       "      <td>288820.0</td>\n",
       "    </tr>\n",
       "    <tr>\n",
       "      <th>4</th>\n",
       "      <td>ASHFIELD</td>\n",
       "      <td>135115.0</td>\n",
       "    </tr>\n",
       "    <tr>\n",
       "      <th>...</th>\n",
       "      <td>...</td>\n",
       "      <td>...</td>\n",
       "    </tr>\n",
       "    <tr>\n",
       "      <th>348</th>\n",
       "      <td>WYCOMBE</td>\n",
       "      <td>405071.0</td>\n",
       "    </tr>\n",
       "    <tr>\n",
       "      <th>349</th>\n",
       "      <td>WYRE</td>\n",
       "      <td>150409.0</td>\n",
       "    </tr>\n",
       "    <tr>\n",
       "      <th>350</th>\n",
       "      <td>WYRE FOREST</td>\n",
       "      <td>184840.0</td>\n",
       "    </tr>\n",
       "    <tr>\n",
       "      <th>351</th>\n",
       "      <td>YORK</td>\n",
       "      <td>242125.0</td>\n",
       "    </tr>\n",
       "    <tr>\n",
       "      <th>352</th>\n",
       "      <td>ENGLAND</td>\n",
       "      <td>243582.0</td>\n",
       "    </tr>\n",
       "  </tbody>\n",
       "</table>\n",
       "<p>353 rows × 2 columns</p>\n",
       "</div>"
      ],
      "text/plain": [
       "             name  avg_hse_price\n",
       "0            ADUR       306921.0\n",
       "1       ALLERDALE       149657.0\n",
       "2    AMBER VALLEY       170198.0\n",
       "3            ARUN       288820.0\n",
       "4        ASHFIELD       135115.0\n",
       "..            ...            ...\n",
       "348       WYCOMBE       405071.0\n",
       "349          WYRE       150409.0\n",
       "350   WYRE FOREST       184840.0\n",
       "351          YORK       242125.0\n",
       "352       ENGLAND       243582.0\n",
       "\n",
       "[353 rows x 2 columns]"
      ]
     },
     "execution_count": 29,
     "metadata": {},
     "output_type": "execute_result"
    }
   ],
   "source": [
    "raw_df['December 2017'] = raw_df['December 2017'].str.replace('�', '')\n",
    "df = data_wrangler(raw_df)\n",
    "df = df.select_cols(['Local authorities','December 2017'])\n",
    "df = data_wrangler(df)\n",
    "df = df.rename_cols(['name','avg_hse_price'])\n",
    "df = data_wrangler(df)\n",
    "df = df.adjust_col_dtypes({\n",
    "    'name' : str,\n",
    "    'avg_hse_price' : np.float64\n",
    "})\n",
    "df['name'] = df['name'].str.upper()\n",
    "ldn_hse_price_x = df\n",
    "ldn_hse_price_x"
   ]
  },
  {
   "cell_type": "code",
   "execution_count": 30,
   "id": "117a8879-f341-4b73-b7f2-e623d7fd8ba7",
   "metadata": {},
   "outputs": [],
   "source": [
    "xbor = ldn_bor.loc[d]['area_name'].unique()"
   ]
  },
  {
   "cell_type": "code",
   "execution_count": 31,
   "id": "7bcaffd8-2e93-4f40-a654-bdb2d4a4b74a",
   "metadata": {},
   "outputs": [],
   "source": [
    "ldn_hse_price_x = ldn_hse_price_x.loc[ldn_hse_price_x['name'].isin(xbor)]\n",
    "ldn_hse_price_x = ldn_hse_price_x.assign(id = ['E09000034','E09000035','E09000036','E09000037'])"
   ]
  },
  {
   "cell_type": "code",
   "execution_count": 32,
   "id": "07cd77d0-df92-4e1f-ae09-65bdb0043812",
   "metadata": {},
   "outputs": [],
   "source": [
    "ldn_hse_price = pd.concat([ldn_hse_price, ldn_hse_price_x])\n",
    "ldn_hse_price.reset_index(drop = True, inplace = True)"
   ]
  },
  {
   "cell_type": "code",
   "execution_count": 33,
   "id": "b507bc1d-5d53-44fd-9c61-848020efdfff",
   "metadata": {},
   "outputs": [
    {
     "data": {
      "text/html": [
       "<div>\n",
       "<style scoped>\n",
       "    .dataframe tbody tr th:only-of-type {\n",
       "        vertical-align: middle;\n",
       "    }\n",
       "\n",
       "    .dataframe tbody tr th {\n",
       "        vertical-align: top;\n",
       "    }\n",
       "\n",
       "    .dataframe thead th {\n",
       "        text-align: right;\n",
       "    }\n",
       "</style>\n",
       "<table border=\"1\" class=\"dataframe\">\n",
       "  <thead>\n",
       "    <tr style=\"text-align: right;\">\n",
       "      <th></th>\n",
       "      <th>id</th>\n",
       "      <th>name</th>\n",
       "      <th>avg_hse_price</th>\n",
       "    </tr>\n",
       "  </thead>\n",
       "  <tbody>\n",
       "    <tr>\n",
       "      <th>0</th>\n",
       "      <td>E09000001</td>\n",
       "      <td>CITY OF LONDON</td>\n",
       "      <td>820305.0</td>\n",
       "    </tr>\n",
       "    <tr>\n",
       "      <th>1</th>\n",
       "      <td>E09000002</td>\n",
       "      <td>BARKING AND DAGENHAM</td>\n",
       "      <td>282441.0</td>\n",
       "    </tr>\n",
       "    <tr>\n",
       "      <th>2</th>\n",
       "      <td>E09000003</td>\n",
       "      <td>BARNET</td>\n",
       "      <td>532924.0</td>\n",
       "    </tr>\n",
       "    <tr>\n",
       "      <th>3</th>\n",
       "      <td>E09000005</td>\n",
       "      <td>BRENT</td>\n",
       "      <td>472373.0</td>\n",
       "    </tr>\n",
       "    <tr>\n",
       "      <th>4</th>\n",
       "      <td>E09000007</td>\n",
       "      <td>CAMDEN</td>\n",
       "      <td>856070.0</td>\n",
       "    </tr>\n",
       "    <tr>\n",
       "      <th>5</th>\n",
       "      <td>E09000009</td>\n",
       "      <td>EALING</td>\n",
       "      <td>489364.0</td>\n",
       "    </tr>\n",
       "    <tr>\n",
       "      <th>6</th>\n",
       "      <td>E09000010</td>\n",
       "      <td>ENFIELD</td>\n",
       "      <td>391874.0</td>\n",
       "    </tr>\n",
       "    <tr>\n",
       "      <th>7</th>\n",
       "      <td>E09000011</td>\n",
       "      <td>GREENWICH</td>\n",
       "      <td>376668.0</td>\n",
       "    </tr>\n",
       "    <tr>\n",
       "      <th>8</th>\n",
       "      <td>E09000012</td>\n",
       "      <td>HACKNEY</td>\n",
       "      <td>561445.0</td>\n",
       "    </tr>\n",
       "    <tr>\n",
       "      <th>9</th>\n",
       "      <td>E09000013</td>\n",
       "      <td>HAMMERSMITH AND FULHAM</td>\n",
       "      <td>755421.0</td>\n",
       "    </tr>\n",
       "    <tr>\n",
       "      <th>10</th>\n",
       "      <td>E09000014</td>\n",
       "      <td>HARINGEY</td>\n",
       "      <td>551095.0</td>\n",
       "    </tr>\n",
       "    <tr>\n",
       "      <th>11</th>\n",
       "      <td>E09000015</td>\n",
       "      <td>HARROW</td>\n",
       "      <td>457832.0</td>\n",
       "    </tr>\n",
       "    <tr>\n",
       "      <th>12</th>\n",
       "      <td>E09000016</td>\n",
       "      <td>HAVERING</td>\n",
       "      <td>352069.0</td>\n",
       "    </tr>\n",
       "    <tr>\n",
       "      <th>13</th>\n",
       "      <td>E09000017</td>\n",
       "      <td>HILLINGDON</td>\n",
       "      <td>410397.0</td>\n",
       "    </tr>\n",
       "    <tr>\n",
       "      <th>14</th>\n",
       "      <td>E09000018</td>\n",
       "      <td>HOUNSLOW</td>\n",
       "      <td>399157.0</td>\n",
       "    </tr>\n",
       "    <tr>\n",
       "      <th>15</th>\n",
       "      <td>E09000019</td>\n",
       "      <td>ISLINGTON</td>\n",
       "      <td>639571.0</td>\n",
       "    </tr>\n",
       "    <tr>\n",
       "      <th>16</th>\n",
       "      <td>E09000020</td>\n",
       "      <td>KENSINGTON AND CHELSEA</td>\n",
       "      <td>1394421.0</td>\n",
       "    </tr>\n",
       "    <tr>\n",
       "      <th>17</th>\n",
       "      <td>E09000022</td>\n",
       "      <td>LAMBETH</td>\n",
       "      <td>509710.0</td>\n",
       "    </tr>\n",
       "    <tr>\n",
       "      <th>18</th>\n",
       "      <td>E09000024</td>\n",
       "      <td>MERTON</td>\n",
       "      <td>483395.0</td>\n",
       "    </tr>\n",
       "    <tr>\n",
       "      <th>19</th>\n",
       "      <td>E09000025</td>\n",
       "      <td>NEWHAM</td>\n",
       "      <td>355298.0</td>\n",
       "    </tr>\n",
       "    <tr>\n",
       "      <th>20</th>\n",
       "      <td>E09000026</td>\n",
       "      <td>REDBRIDGE</td>\n",
       "      <td>408457.0</td>\n",
       "    </tr>\n",
       "    <tr>\n",
       "      <th>21</th>\n",
       "      <td>E09000027</td>\n",
       "      <td>RICHMOND UPON THAMES</td>\n",
       "      <td>655125.0</td>\n",
       "    </tr>\n",
       "    <tr>\n",
       "      <th>22</th>\n",
       "      <td>E09000028</td>\n",
       "      <td>SOUTHWARK</td>\n",
       "      <td>504332.0</td>\n",
       "    </tr>\n",
       "    <tr>\n",
       "      <th>23</th>\n",
       "      <td>E09000030</td>\n",
       "      <td>TOWER HAMLETS</td>\n",
       "      <td>458312.0</td>\n",
       "    </tr>\n",
       "    <tr>\n",
       "      <th>24</th>\n",
       "      <td>E09000031</td>\n",
       "      <td>WALTHAM FOREST</td>\n",
       "      <td>435682.0</td>\n",
       "    </tr>\n",
       "    <tr>\n",
       "      <th>25</th>\n",
       "      <td>E09000032</td>\n",
       "      <td>WANDSWORTH</td>\n",
       "      <td>603455.0</td>\n",
       "    </tr>\n",
       "    <tr>\n",
       "      <th>26</th>\n",
       "      <td>E09000033</td>\n",
       "      <td>CITY OF WESTMINSTER</td>\n",
       "      <td>1040211.0</td>\n",
       "    </tr>\n",
       "    <tr>\n",
       "      <th>27</th>\n",
       "      <td>E09000034</td>\n",
       "      <td>CHILTERN</td>\n",
       "      <td>556747.0</td>\n",
       "    </tr>\n",
       "    <tr>\n",
       "      <th>28</th>\n",
       "      <td>E09000035</td>\n",
       "      <td>EPPING FOREST</td>\n",
       "      <td>458868.0</td>\n",
       "    </tr>\n",
       "    <tr>\n",
       "      <th>29</th>\n",
       "      <td>E09000036</td>\n",
       "      <td>THREE RIVERS</td>\n",
       "      <td>526065.0</td>\n",
       "    </tr>\n",
       "    <tr>\n",
       "      <th>30</th>\n",
       "      <td>E09000037</td>\n",
       "      <td>WATFORD</td>\n",
       "      <td>361696.0</td>\n",
       "    </tr>\n",
       "  </tbody>\n",
       "</table>\n",
       "</div>"
      ],
      "text/plain": [
       "           id                    name  avg_hse_price\n",
       "0   E09000001          CITY OF LONDON       820305.0\n",
       "1   E09000002    BARKING AND DAGENHAM       282441.0\n",
       "2   E09000003                  BARNET       532924.0\n",
       "3   E09000005                   BRENT       472373.0\n",
       "4   E09000007                  CAMDEN       856070.0\n",
       "5   E09000009                  EALING       489364.0\n",
       "6   E09000010                 ENFIELD       391874.0\n",
       "7   E09000011               GREENWICH       376668.0\n",
       "8   E09000012                 HACKNEY       561445.0\n",
       "9   E09000013  HAMMERSMITH AND FULHAM       755421.0\n",
       "10  E09000014                HARINGEY       551095.0\n",
       "11  E09000015                  HARROW       457832.0\n",
       "12  E09000016                HAVERING       352069.0\n",
       "13  E09000017              HILLINGDON       410397.0\n",
       "14  E09000018                HOUNSLOW       399157.0\n",
       "15  E09000019               ISLINGTON       639571.0\n",
       "16  E09000020  KENSINGTON AND CHELSEA      1394421.0\n",
       "17  E09000022                 LAMBETH       509710.0\n",
       "18  E09000024                  MERTON       483395.0\n",
       "19  E09000025                  NEWHAM       355298.0\n",
       "20  E09000026               REDBRIDGE       408457.0\n",
       "21  E09000027    RICHMOND UPON THAMES       655125.0\n",
       "22  E09000028               SOUTHWARK       504332.0\n",
       "23  E09000030           TOWER HAMLETS       458312.0\n",
       "24  E09000031          WALTHAM FOREST       435682.0\n",
       "25  E09000032              WANDSWORTH       603455.0\n",
       "26  E09000033     CITY OF WESTMINSTER      1040211.0\n",
       "27  E09000034                CHILTERN       556747.0\n",
       "28  E09000035           EPPING FOREST       458868.0\n",
       "29  E09000036            THREE RIVERS       526065.0\n",
       "30  E09000037                 WATFORD       361696.0"
      ]
     },
     "execution_count": 33,
     "metadata": {},
     "output_type": "execute_result"
    }
   ],
   "source": [
    "ldn_hse_price"
   ]
  },
  {
   "cell_type": "code",
   "execution_count": 34,
   "id": "994de071-8479-4c86-8d5f-1487ca734937",
   "metadata": {},
   "outputs": [],
   "source": [
    "ldn_bor = ldn_bor.loc[c]\n",
    "#ldn_bor.reset_index(inplace = True)"
   ]
  },
  {
   "cell_type": "code",
   "execution_count": 35,
   "id": "c112908d-a6bd-4beb-aee7-86cc19db92ff",
   "metadata": {},
   "outputs": [
    {
     "data": {
      "text/plain": [
       "True    253\n",
       "Name: area_name, dtype: int64"
      ]
     },
     "execution_count": 35,
     "metadata": {},
     "output_type": "execute_result"
    }
   ],
   "source": [
    "ldn_bor['area_name'].isin(ldn_hse_price['name']).value_counts()"
   ]
  },
  {
   "cell_type": "code",
   "execution_count": 36,
   "id": "1fa09d94-f80e-4695-8c11-20bf482031b5",
   "metadata": {},
   "outputs": [
    {
     "data": {
      "text/html": [
       "<div>\n",
       "<style scoped>\n",
       "    .dataframe tbody tr th:only-of-type {\n",
       "        vertical-align: middle;\n",
       "    }\n",
       "\n",
       "    .dataframe tbody tr th {\n",
       "        vertical-align: top;\n",
       "    }\n",
       "\n",
       "    .dataframe thead th {\n",
       "        text-align: right;\n",
       "    }\n",
       "</style>\n",
       "<table border=\"1\" class=\"dataframe\">\n",
       "  <thead>\n",
       "    <tr style=\"text-align: right;\">\n",
       "      <th></th>\n",
       "      <th>id</th>\n",
       "      <th>station_name</th>\n",
       "      <th>area_name</th>\n",
       "    </tr>\n",
       "  </thead>\n",
       "  <tbody>\n",
       "  </tbody>\n",
       "</table>\n",
       "</div>"
      ],
      "text/plain": [
       "Empty DataFrame\n",
       "Columns: [id, station_name, area_name]\n",
       "Index: []"
      ]
     },
     "execution_count": 36,
     "metadata": {},
     "output_type": "execute_result"
    }
   ],
   "source": [
    "# Station Name Finder \n",
    "ldn_bor.loc[ldn_bor['station_name'] == 'Brent Cross']"
   ]
  },
  {
   "cell_type": "code",
   "execution_count": null,
   "id": "2be526ef-b88a-40e8-aca5-9c16daf09e9f",
   "metadata": {},
   "outputs": [],
   "source": []
  }
 ],
 "metadata": {
  "kernelspec": {
   "display_name": "Python 3",
   "language": "python",
   "name": "python3"
  },
  "language_info": {
   "codemirror_mode": {
    "name": "ipython",
    "version": 3
   },
   "file_extension": ".py",
   "mimetype": "text/x-python",
   "name": "python",
   "nbconvert_exporter": "python",
   "pygments_lexer": "ipython3",
   "version": "3.8.8"
  }
 },
 "nbformat": 4,
 "nbformat_minor": 5
}
