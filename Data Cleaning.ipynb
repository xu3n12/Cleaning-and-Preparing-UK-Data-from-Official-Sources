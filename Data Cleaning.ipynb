{
 "cells": [
  {
   "cell_type": "markdown",
   "id": "0d9579c7-5613-48ad-a089-314c8c652f9d",
   "metadata": {},
   "source": [
    "# The More The Merrier (Data Cleaning)"
   ]
  },
  {
   "cell_type": "markdown",
   "id": "3804c845-64ca-448b-b9c0-11f2e88cf730",
   "metadata": {},
   "source": [
    "**Description:** This notebook is dedicated to the preprocessing and cleaning of raw data stored in *csv* files using the \n",
    "*Pandas* library, specifically focusing on three key datasets for this project.\n",
    "\n",
    "- **Data:** Datasets to clean:\n",
    "  - `2017_Entry_Exit.csv`\n",
    "  - `2017_Average_Housing_Prices_in_London.csv`\n",
    "  - ` LondonUnderground_Stations_Boroughs.csv `\n"
   ]
  },
  {
   "cell_type": "code",
   "execution_count": 93,
   "id": "2c52741e-4607-4fce-a7ae-c006b87b2cab",
   "metadata": {},
   "outputs": [],
   "source": [
    "# importing the necessary libraries\n",
    "import pandas as pd\n",
    "import numpy as np"
   ]
  },
  {
   "cell_type": "code",
   "execution_count": 94,
   "id": "9f32dee4-5f52-40b5-a87d-13776b4c2fd2",
   "metadata": {},
   "outputs": [],
   "source": [
    "def load_data(filepath):\n",
    "    '''\n",
    "    This function loads raw data from a csv file into a pandas dataframe and sets the primary key as the index column\n",
    "    Args:\n",
    "        filepath: the raw data's filepath in csv format\n",
    "    Return:\n",
    "        The loaded raw data into the pandas dataframe ready to be preprocessed\n",
    "    '''\n",
    "    df = pd.read_csv(filepath)\n",
    "    return df "
   ]
  },
  {
   "cell_type": "code",
   "execution_count": 95,
   "id": "df1d233e-3c2a-41ab-b60d-26567bff075e",
   "metadata": {},
   "outputs": [],
   "source": [
    "class data_cleaner:\n",
    "    def __init__(self, df):\n",
    "        self.df = df\n",
    "    \n",
    "    def get_data(self):\n",
    "        return self.df\n",
    "    \n",
    "    def select_cols(self,cols):\n",
    "        df = self.df[cols]\n",
    "        cleaned_data = data_cleaner(df)\n",
    "        return df\n",
    "\n",
    "    def adjust_col_dtypes(self,col_dtypes):\n",
    "        self.df = self.df.astype(col_dtypes)\n",
    "        cleaned_data = data_cleaner(self.df)\n",
    "        return self.df\n",
    "    \n",
    "    def rename_cols(self,rename):\n",
    "        self.df.columns = rename\n",
    "        cleaned_data = data_cleaner(self.df)\n",
    "        return self.df"
   ]
  },
  {
   "cell_type": "code",
   "execution_count": 96,
   "id": "f5032871-94b5-4669-bca5-6c40f744a8d2",
   "metadata": {},
   "outputs": [],
   "source": [
    "def clean_data(df, cols, col_dtypes, rename):\n",
    "    '''\n",
    "    This function does the necessary cleaning of data such as selecting relevant column, adjusting each column's data type\n",
    "    and simplifying the column names.\n",
    "    Args:\n",
    "        df: raw dataframe to be cleaned\n",
    "        cols: list of relevant columns in ascending order\n",
    "        col_dtypes: dictionary where each column maps to a data type \n",
    "        rename: list of simplified column names in order\n",
    "    Return:\n",
    "        The cleaned dataframe ready to be cleaned\n",
    "    '''\n",
    "    df = df[cols]\n",
    "    df.astype(col_dtypes)\n",
    "    df.columns = rename\n",
    "    return df"
   ]
  },
  {
   "cell_type": "code",
   "execution_count": 97,
   "id": "df2f4286-3cf0-47b6-b003-5af89cd7d938",
   "metadata": {},
   "outputs": [],
   "source": [
    "raw_df = load_data(r'C:\\Users\\pjxph\\Documents\\Data Science Projects\\The More The Merrier\\raw data\\2017_Entry_Exit.csv')\n",
    "# list of all london stations with it's each respective frequency of touch ins and touch outs."
   ]
  },
  {
   "cell_type": "code",
   "execution_count": 98,
   "id": "dfb3e725-ab71-4da0-9676-27929a33434f",
   "metadata": {},
   "outputs": [],
   "source": [
    "df = data_cleaner(raw_df)\n",
    "df = df.select_cols(['Station_ID', 'Station_Name','AnnualEntryExit_Mill'])\n",
    "df = data_cleaner(df)\n",
    "df = df.rename_cols(['id','name','frequency(millions)'])\n",
    "df = data_cleaner(df)\n",
    "df = df.adjust_col_dtypes({ 'id' : np.int64,\n",
    "                           'name' : str,\n",
    "                           'frequency(millions)' : np.float64\n",
    "    \n",
    "})\n",
    "sta_freq = df\n",
    "#cleaned_data.rename_cols(['id','name','z'])"
   ]
  },
  {
   "cell_type": "code",
   "execution_count": 99,
   "id": "609cd621-fad1-4411-b9e9-b21b8e5d9a0b",
   "metadata": {},
   "outputs": [],
   "source": [
    "# 2017_Average_hse_price\n",
    "raw_df = load_data(r'C:\\Users\\pjxph\\Documents/Data Science Projects/The More The Merrier/raw data/2017_Average_Housing_Prices_in_London.csv')"
   ]
  },
  {
   "cell_type": "code",
   "execution_count": 100,
   "id": "203a5ea5-7318-4944-99ca-23cced2068e1",
   "metadata": {
    "tags": []
   },
   "outputs": [],
   "source": [
    "df = data_cleaner(raw_df)\n",
    "df = df.select_cols(['Area_ID','Area_Name','average_hse_price'])\n",
    "df = data_cleaner(df)\n",
    "df = df.rename_cols(['id','name','avg_hse_price'])\n",
    "df = data_cleaner(df)\n",
    "df = df.adjust_col_dtypes({\n",
    "    'id' : str,\n",
    "    'name' : str,\n",
    "    'avg_hse_price' : np.float64\n",
    "})\n",
    "ldn_hse_price = df "
   ]
  },
  {
   "cell_type": "code",
   "execution_count": 104,
   "id": "d3fc7c24-1e76-48e9-92ea-dce13cf1ea8f",
   "metadata": {},
   "outputs": [],
   "source": [
    "raw_df = load_data(r'C:\\Users\\pjxph\\Documents/Data Science Projects/The More The Merrier/raw data/LondonUnderground_Stations_Boroughs.csv')"
   ]
  },
  {
   "cell_type": "code",
   "execution_count": 105,
   "id": "d3cbeedf-d5e1-4a05-8ab7-4fd3fa6ab5bc",
   "metadata": {},
   "outputs": [
    {
     "data": {
      "text/html": [
       "<div>\n",
       "<style scoped>\n",
       "    .dataframe tbody tr th:only-of-type {\n",
       "        vertical-align: middle;\n",
       "    }\n",
       "\n",
       "    .dataframe tbody tr th {\n",
       "        vertical-align: top;\n",
       "    }\n",
       "\n",
       "    .dataframe thead th {\n",
       "        text-align: right;\n",
       "    }\n",
       "</style>\n",
       "<table border=\"1\" class=\"dataframe\">\n",
       "  <thead>\n",
       "    <tr style=\"text-align: right;\">\n",
       "      <th></th>\n",
       "      <th>OBJECTID</th>\n",
       "      <th>NAME</th>\n",
       "      <th>NETWORK</th>\n",
       "      <th>Zone</th>\n",
       "      <th>area</th>\n",
       "      <th>Unnamed: 5</th>\n",
       "      <th>Unnamed: 6</th>\n",
       "    </tr>\n",
       "  </thead>\n",
       "  <tbody>\n",
       "    <tr>\n",
       "      <th>0</th>\n",
       "      <td>1</td>\n",
       "      <td>Brent Cross</td>\n",
       "      <td>London Underground</td>\n",
       "      <td>3</td>\n",
       "      <td>Barnet</td>\n",
       "      <td>NaN</td>\n",
       "      <td>London Underground</td>\n",
       "    </tr>\n",
       "    <tr>\n",
       "      <th>1</th>\n",
       "      <td>2</td>\n",
       "      <td>Colindale</td>\n",
       "      <td>London Underground</td>\n",
       "      <td>4</td>\n",
       "      <td>Barnet</td>\n",
       "      <td>NaN</td>\n",
       "      <td>London Underground</td>\n",
       "    </tr>\n",
       "    <tr>\n",
       "      <th>2</th>\n",
       "      <td>3</td>\n",
       "      <td>Burnt Oak</td>\n",
       "      <td>London Underground</td>\n",
       "      <td>4</td>\n",
       "      <td>Barnet</td>\n",
       "      <td>NaN</td>\n",
       "      <td>London Underground</td>\n",
       "    </tr>\n",
       "    <tr>\n",
       "      <th>3</th>\n",
       "      <td>4</td>\n",
       "      <td>Edgware</td>\n",
       "      <td>London Underground</td>\n",
       "      <td>5</td>\n",
       "      <td>Barnet</td>\n",
       "      <td>NaN</td>\n",
       "      <td>London Underground</td>\n",
       "    </tr>\n",
       "    <tr>\n",
       "      <th>4</th>\n",
       "      <td>5</td>\n",
       "      <td>Mill Hill East</td>\n",
       "      <td>London Underground</td>\n",
       "      <td>4</td>\n",
       "      <td>Barnet</td>\n",
       "      <td>NaN</td>\n",
       "      <td>London Underground</td>\n",
       "    </tr>\n",
       "  </tbody>\n",
       "</table>\n",
       "</div>"
      ],
      "text/plain": [
       "   OBJECTID            NAME             NETWORK  Zone    area  Unnamed: 5  \\\n",
       "0         1     Brent Cross  London Underground     3  Barnet         NaN   \n",
       "1         2       Colindale  London Underground     4  Barnet         NaN   \n",
       "2         3       Burnt Oak  London Underground     4  Barnet         NaN   \n",
       "3         4         Edgware  London Underground     5  Barnet         NaN   \n",
       "4         5  Mill Hill East  London Underground     4  Barnet         NaN   \n",
       "\n",
       "           Unnamed: 6  \n",
       "0  London Underground  \n",
       "1  London Underground  \n",
       "2  London Underground  \n",
       "3  London Underground  \n",
       "4  London Underground  "
      ]
     },
     "execution_count": 105,
     "metadata": {},
     "output_type": "execute_result"
    }
   ],
   "source": [
    "raw_df.head()"
   ]
  },
  {
   "cell_type": "code",
   "execution_count": 111,
   "id": "dab551d9-8caf-4e34-bb4f-31a2f371a4e5",
   "metadata": {},
   "outputs": [],
   "source": [
    "df = data_cleaner(raw_df)\n",
    "df = df.select_cols(['OBJECTID','NAME','area'])\n",
    "df = data_cleaner(df)\n",
    "df = df.rename_cols(['id','station_name','area_name'])\n",
    "df = data_cleaner(df)\n",
    "df = df.adjust_col_dtypes({\n",
    "    'id' : np.int64,\n",
    "    'station_name' : str,\n",
    "    'area_name' : str\n",
    "})\n",
    "boroughs = df "
   ]
  },
  {
   "cell_type": "markdown",
   "id": "29d7c71c-a531-4d0f-bdf2-f4ea7c34e9e4",
   "metadata": {},
   "source": [
    "The three cleaned dataframes are:\n",
    "* sta_freq\n",
    "* ldn_hse_price\n",
    "* boroughs\n"
   ]
  },
  {
   "cell_type": "code",
   "execution_count": null,
   "id": "cc4c01cc-a4eb-478e-86d7-8d7caa82cfbe",
   "metadata": {},
   "outputs": [],
   "source": []
  }
 ],
 "metadata": {
  "kernelspec": {
   "display_name": "Python 3",
   "language": "python",
   "name": "python3"
  },
  "language_info": {
   "codemirror_mode": {
    "name": "ipython",
    "version": 3
   },
   "file_extension": ".py",
   "mimetype": "text/x-python",
   "name": "python",
   "nbconvert_exporter": "python",
   "pygments_lexer": "ipython3",
   "version": "3.8.8"
  }
 },
 "nbformat": 4,
 "nbformat_minor": 5
}
